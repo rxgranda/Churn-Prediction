{
 "cells": [
  {
   "cell_type": "code",
   "execution_count": 2,
   "metadata": {},
   "outputs": [],
   "source": [
    "from threading import Thread\n",
    "\n",
    "class StreamingThread(Thread):\n",
    "    def __init__(self, ssc):\n",
    "        Thread.__init__(self)\n",
    "        self.ssc = ssc\n",
    "    def run(self):\n",
    "        ssc.start()\n",
    "        ssc.awaitTermination()\n",
    "    def stop(self):\n",
    "        print('----- Stopping... this may take a few seconds -----')\n",
    "        self.ssc.stop(stopSparkContext=False, stopGraceFully=True)"
   ]
  },
  {
   "cell_type": "code",
   "execution_count": 1,
   "metadata": {},
   "outputs": [],
   "source": [
    "\n",
    "\n",
    "from pyspark.sql import SparkSession\n",
    "\n",
    "spark = SparkSession \\\n",
    "    .builder \\\n",
    "    .appName(\"Demo\") \\\n",
    "    .config(\"spark.driver.memory\",\"4G\")\\\n",
    "    .config(\"spark.driver.maxResultSize\", \"3G\") \\\n",
    "    .config(\"spark.jars.packages\", \"JohnSnowLabs:spark-nlp:2.0.3\")\\\n",
    "    .config(\"spark.kryoserializer.buffer.max\", \"500m\")\\\n",
    "    .getOrCreate()"
   ]
  },
  {
   "cell_type": "code",
   "execution_count": 2,
   "metadata": {},
   "outputs": [
    {
     "data": {
      "text/html": [
       "\n",
       "            <div>\n",
       "                <p><b>SparkSession - in-memory</b></p>\n",
       "                \n",
       "        <div>\n",
       "            <p><b>SparkContext</b></p>\n",
       "\n",
       "            <p><a href=\"http://DESKTOP-B1LTV71:4040\">Spark UI</a></p>\n",
       "\n",
       "            <dl>\n",
       "              <dt>Version</dt>\n",
       "                <dd><code>v2.4.3</code></dd>\n",
       "              <dt>Master</dt>\n",
       "                <dd><code>local[*]</code></dd>\n",
       "              <dt>AppName</dt>\n",
       "                <dd><code>Demo</code></dd>\n",
       "            </dl>\n",
       "        </div>\n",
       "        \n",
       "            </div>\n",
       "        "
      ],
      "text/plain": [
       "<pyspark.sql.session.SparkSession at 0x2f205462ef0>"
      ]
     },
     "execution_count": 2,
     "metadata": {},
     "output_type": "execute_result"
    }
   ],
   "source": [
    "import sparknlp\n",
    "sparknlp.start()\n",
    "\n",
    "# from sparknlp.pretrained import PretrainedPipeline\n",
    "# pipeline = PretrainedPipeline('explain_document_ml', 'en')\n",
    "# result = pipeline.annotate('Harry Potter are a greatest movies. I am the best')\n",
    "# result\n",
    "# pipeline = PretrainedPipeline(\"movies_sentiment_analysis\")\n",
    "# testDocs = [\n",
    "#     \"I felt so disapointed to see this very uninspired film. I recommend others to awoid this movie is not good.\",\n",
    "#     \"This was movie was amesome, everything was nice.\"]\n",
    "# result = pipeline.annotate(testDocs)"
   ]
  },
  {
   "cell_type": "code",
   "execution_count": 20,
   "metadata": {},
   "outputs": [
    {
     "name": "stdout",
     "output_type": "stream",
     "text": [
      "pipeline_d28333e025c9\n"
     ]
    },
    {
     "data": {
      "text/plain": [
       "LEMMATIZER_c62ad8f355f9"
      ]
     },
     "execution_count": 20,
     "metadata": {},
     "output_type": "execute_result"
    }
   ],
   "source": []
  },
  {
   "cell_type": "code",
   "execution_count": 3,
   "metadata": {},
   "outputs": [],
   "source": [
    "# Remarks / TO DO\n",
    "# 1. unbalance class distribution ==> try up / down-sampling (but I heard from another student it did not improve)\n",
    "# try SMOTE\n",
    "# 2. add to pre-processing stemming\n",
    "# 3. also try Naive Bayes and SVM (on top of log regr). See https://towardsdatascience.com/multi-class-text-classification-with-pyspark-7d78d022ed35\n",
    "# see also: http://classes.ischool.syr.edu/ist718/content/unit09/lab-sentiment_analysis/\n",
    "# 4. Try ensemlble of different methods\n",
    "# 5. Try external library for sentiment analysis (sentimnetvader / but I heard from another student it did not help)\n",
    "# 6. VERY IMPORTANT: I think we should rather reduce the number of categories from 5 to let's say 3\n",
    "# the 3 categories would be bad (0 and 1 star), middle (3 star), good (4 and 5 stars)\n",
    "# this would allow to have more training instance per categories and anyway how can even a human differentiate a 1 from a 2 stars or a 4 from a 5 stars"
   ]
  },
  {
   "cell_type": "code",
   "execution_count": 3,
   "metadata": {},
   "outputs": [
    {
     "name": "stdout",
     "output_type": "stream",
     "text": [
      "root\n",
      " |-- book_id: string (nullable = true)\n",
      " |-- book_title: string (nullable = true)\n",
      " |-- review_id: string (nullable = true)\n",
      " |-- review_score: string (nullable = true)\n",
      " |-- review_text: string (nullable = true)\n",
      " |-- review_title: string (nullable = true)\n",
      " |-- review_user: string (nullable = true)\n",
      " |-- timestamp: long (nullable = true)\n",
      " |-- review_concat: string (nullable = true)\n",
      "\n"
     ]
    }
   ],
   "source": [
    "# start with easy implemetation: only consider the content of the 2 fields review_title and review_text\n",
    "# concantenate them in one new field \"review_concat\"from pyspark.sql import SQLContext\n",
    "from pyspark.sql import functions as fn\n",
    "filepath = 'data_processed/ExctractedData.json'\n",
    "# load JSON file\n",
    "s_df = spark.read.json(filepath)\n",
    "# concatenate review text and title in one field\n",
    "s_df = s_df.withColumn('review_concat',fn.concat(fn.col('review_title'),fn.lit(' '), fn.col('review_text')))\n",
    "s_df=s_df.dropDuplicates(['review_id'])\n",
    "s_df.printSchema()"
   ]
  },
  {
   "cell_type": "code",
   "execution_count": 4,
   "metadata": {},
   "outputs": [
    {
     "name": "stdout",
     "output_type": "stream",
     "text": [
      "root\n",
      " |-- book_id: string (nullable = true)\n",
      " |-- book_title: string (nullable = true)\n",
      " |-- review_id: string (nullable = true)\n",
      " |-- review_score: integer (nullable = true)\n",
      " |-- review_text: string (nullable = true)\n",
      " |-- review_title: string (nullable = true)\n",
      " |-- review_user: string (nullable = true)\n",
      " |-- timestamp: long (nullable = true)\n",
      " |-- review_concat: string (nullable = true)\n",
      "\n"
     ]
    }
   ],
   "source": [
    "# review_score is of type String ==> cast it from String to Integer\n",
    "from pyspark.sql.types import IntegerType\n",
    "s_df = s_df.withColumn(\"review_score\", s_df[\"review_score\"].cast(IntegerType()))\n",
    "s_df.printSchema()"
   ]
  },
  {
   "cell_type": "code",
   "execution_count": 5,
   "metadata": {},
   "outputs": [
    {
     "name": "stdout",
     "output_type": "stream",
     "text": [
      "+------------+-----+\n",
      "|review_score|count|\n",
      "+------------+-----+\n",
      "|           5| 9383|\n",
      "|           4| 1529|\n",
      "|           3|  346|\n",
      "|           2|  170|\n",
      "|           1|  145|\n",
      "+------------+-----+\n",
      "\n"
     ]
    }
   ],
   "source": [
    "# show score distribution, we see classes are highly unbalanced\n",
    "from pyspark.sql.functions import col\n",
    "s_df.groupBy(\"review_score\") \\\n",
    "    .count() \\\n",
    "    .orderBy(col(\"count\").desc()) \\\n",
    "    .show()"
   ]
  },
  {
   "cell_type": "code",
   "execution_count": 20,
   "metadata": {},
   "outputs": [
    {
     "name": "stdout",
     "output_type": "stream",
     "text": [
      "+------------+-----+\n",
      "|review_score|count|\n",
      "+------------+-----+\n",
      "|           5| 9383|\n",
      "|           4| 1529|\n",
      "|           3|  346|\n",
      "|           2|  170|\n",
      "|           1|  145|\n",
      "+------------+-----+\n",
      "\n"
     ]
    }
   ],
   "source": [
    "# check if duplicate review (normally not the case as the python script that filters the JSON took care of that)\n",
    "s_df.dropDuplicates(['review_id'])\n",
    "s_df.groupBy(\"review_score\") \\\n",
    "    .count() \\\n",
    "    .orderBy(col(\"count\").desc()) \\\n",
    "    .show()"
   ]
  },
  {
   "cell_type": "code",
   "execution_count": 12,
   "metadata": {},
   "outputs": [
    {
     "data": {
      "text/plain": [
       "[Row(book_id='62678426', book_title='The Woman in the Window: A Novel', review_id='RZFSIAUSHZH43', review_score=5, review_text=\"Someone recommended this book but wouldn't say much about it. Lots of twists and turns, trying to figure out what was reality and what wasn't.Don't start this if you have to be somewhere else. It's hard to put down until you know how it ends.\", review_title='Twists and turns', review_user='LindaG', timestamp=1556699124, review_concat=\"Twists and turns Someone recommended this book but wouldn't say much about it. Lots of twists and turns, trying to figure out what was reality and what wasn't.Don't start this if you have to be somewhere else. It's hard to put down until you know how it ends.\"),\n",
       " Row(book_id='1455536156', book_title='Scraps, Wilt & Weeds: Turning Wasted Food into Plenty', review_id='RSSSXHBF4BJJY', review_score=4, review_text='A well written and inspiring cook book! As a chef my self i was impressed with some of the applications for food waste!', review_title='Great book !', review_user='Tracy Rowan', timestamp=1556699114, review_concat='Great book ! A well written and inspiring cook book! As a chef my self i was impressed with some of the applications for food waste!')]"
      ]
     },
     "execution_count": 12,
     "metadata": {},
     "output_type": "execute_result"
    }
   ],
   "source": [
    "# show first few reviews\n",
    "s_df.head(2)"
   ]
  },
  {
   "cell_type": "code",
   "execution_count": 13,
   "metadata": {},
   "outputs": [
    {
     "data": {
      "text/plain": [
       "Row(book_id='62678426', book_title='The Woman in the Window: A Novel', review_id='RZFSIAUSHZH43', review_score=5, review_text=\"Someone recommended this book but wouldn't say much about it. Lots of twists and turns, trying to figure out what was reality and what wasn't.Don't start this if you have to be somewhere else. It's hard to put down until you know how it ends.\", review_title='Twists and turns', review_user='LindaG', timestamp=1556699124, review_concat=\"Twists and turns Someone recommended this book but wouldn't say much about it. Lots of twists and turns, trying to figure out what was reality and what wasn't.Don't start this if you have to be somewhere else. It's hard to put down until you know how it ends.\")"
      ]
     },
     "execution_count": 13,
     "metadata": {},
     "output_type": "execute_result"
    }
   ],
   "source": [
    "# look at first 5 star review\n",
    "s_df.where(fn.col('review_score') == 5).first()"
   ]
  },
  {
   "cell_type": "code",
   "execution_count": 14,
   "metadata": {},
   "outputs": [
    {
     "data": {
      "text/plain": [
       "Row(book_id='0143110438', book_title='A Gentleman in Moscow: A Novel', review_id='R3QEDU4XU80W5U', review_score=1, review_text=\"I followed the high Amazon reviews for this book and cannot believe how this book is popular.  Yes, the author is talented and his writing is very sophisticated.....but this book has NO plot, the characters are boring and the story could be told in about 10 pages.  Literally, nothing interesting happens in this book....instead, it's 460 pages of non-nonsensical rambling.\", review_title='BORING RAMBLING', review_user='Amazon Customer', timestamp=1554764357, review_concat=\"BORING RAMBLING I followed the high Amazon reviews for this book and cannot believe how this book is popular.  Yes, the author is talented and his writing is very sophisticated.....but this book has NO plot, the characters are boring and the story could be told in about 10 pages.  Literally, nothing interesting happens in this book....instead, it's 460 pages of non-nonsensical rambling.\")"
      ]
     },
     "execution_count": 14,
     "metadata": {},
     "output_type": "execute_result"
    }
   ],
   "source": [
    "# look at 1 very bad review\n",
    "s_df.where(fn.col('review_score') == 1).first()"
   ]
  },
  {
   "cell_type": "code",
   "execution_count": 18,
   "metadata": {},
   "outputs": [
    {
     "data": {
      "text/plain": [
       "Row(review_concat=\"BORING RAMBLING I followed the high Amazon reviews for this book and cannot believe how this book is popular.  Yes, the author is talented and his writing is very sophisticated.....but this book has NO plot, the characters are boring and the story could be told in about 10 pages.  Literally, nothing interesting happens in this book....instead, it's 460 pages of non-nonsensical rambling.\")"
      ]
     },
     "execution_count": 18,
     "metadata": {},
     "output_type": "execute_result"
    }
   ],
   "source": [
    "# Show ony review_concat field\n",
    "s_df.select('review_concat').where(fn.col('review_score') == 1).first()"
   ]
  },
  {
   "cell_type": "code",
   "execution_count": 6,
   "metadata": {},
   "outputs": [
    {
     "data": {
      "text/plain": [
       "['a',\n",
       " 'about',\n",
       " 'above',\n",
       " 'across',\n",
       " 'after',\n",
       " 'afterwards',\n",
       " 'again',\n",
       " 'against',\n",
       " 'all',\n",
       " 'almost']"
      ]
     },
     "execution_count": 6,
     "metadata": {},
     "output_type": "execute_result"
    }
   ],
   "source": [
    "# import stop words to filter them out from the reviews\n",
    "import requests\n",
    "stop_words = requests.get('http://ir.dcs.gla.ac.uk/resources/linguistic_utils/stop_words').text.split()\n",
    "stop_words[0:10]"
   ]
  },
  {
   "cell_type": "code",
   "execution_count": 22,
   "metadata": {},
   "outputs": [
    {
     "name": "stdout",
     "output_type": "stream",
     "text": [
      "root\n",
      " |-- book_id: string (nullable = true)\n",
      " |-- book_title: string (nullable = true)\n",
      " |-- review_id: string (nullable = true)\n",
      " |-- review_score: integer (nullable = true)\n",
      " |-- review_text: string (nullable = true)\n",
      " |-- review_title: string (nullable = true)\n",
      " |-- review_user: string (nullable = true)\n",
      " |-- timestamp: long (nullable = true)\n",
      " |-- review_concat: string (nullable = true)\n",
      "\n"
     ]
    }
   ],
   "source": [
    "s_df.printSchema()"
   ]
  },
  {
   "cell_type": "code",
   "execution_count": 24,
   "metadata": {},
   "outputs": [
    {
     "name": "stdout",
     "output_type": "stream",
     "text": [
      "root\n",
      " |-- book_id: string (nullable = true)\n",
      " |-- book_title: string (nullable = true)\n",
      " |-- review_id: string (nullable = true)\n",
      " |-- review_score: integer (nullable = true)\n",
      " |-- review_user: string (nullable = true)\n",
      " |-- timestamp: long (nullable = true)\n",
      " |-- review_concat: string (nullable = true)\n",
      " |-- lemmas: array (nullable = true)\n",
      " |    |-- element: struct (containsNull = true)\n",
      " |    |    |-- annotatorType: string (nullable = true)\n",
      " |    |    |-- begin: integer (nullable = false)\n",
      " |    |    |-- end: integer (nullable = false)\n",
      " |    |    |-- result: string (nullable = true)\n",
      " |    |    |-- metadata: map (nullable = true)\n",
      " |    |    |    |-- key: string\n",
      " |    |    |    |-- value: string (valueContainsNull = true)\n",
      " |    |    |-- embeddings: array (nullable = true)\n",
      " |    |    |    |-- element: float (containsNull = false)\n",
      " |    |    |-- sentence_embeddings: array (nullable = true)\n",
      " |    |    |    |-- element: float (containsNull = false)\n",
      " |-- lemmatizedText: string (nullable = true)\n",
      " |-- sentiment: string (nullable = true)\n",
      " |-- sentimentIndex: double (nullable = false)\n",
      "\n",
      "+------------------------------------------------------------------------------------------------------------------------------------------------------------------------------------------------------------------------------------------------------------------------------------------------------------------------------------------------------------------------------------------------------------------------------------------------------------------------------------------------------------------------------------------------------------------------------------------------------------------------------------------------------------------------------------------------------------------------------------------------------------------------------------------------------------------------------------------------------------------------------------------------------------------------------------------------------------------------------------------------------------------------------------------------------------------------------------------------------------------------------------------------------------------------------------------------------------------------------------------------------------------------------------------------------------------------------------------------------------------------------------------------------------------------------------------------------------------------------------------------------------------------------------------------------------------------------------------------------------------------------------------------------------------------------------------------------------------------------------------------------------------------------------------------------------------------------------------------------------------------------------------------------------------------------------------------------------------------------------------------------------------------------------------------------------------------------------------------------------------------------------------------------------------------------------------------------------------------------------------------------------------------------------------------------------------------------------------------------------------------------------------------------------------------------------------------------------------------------------------------------------------------------------------------------------------------------------------------------------------------------------------------------------------------------------------------------------------------------------------------------------------------------------------------------------------------------------------------------------------------+---------+--------------+\n",
      "|lemmatizedText                                                                                                                                                                                                                                                                                                                                                                                                                                                                                                                                                                                                                                                                                                                                                                                                                                                                                                                                                                                                                                                                                                                                                                                                                                                                                                                                                                                                                                                                                                                                                                                                                                                                                                                                                                                                                                                                                                                                                                                                                                                                                                                                                                                                                                                                                                                                                                                                                                                                                                                                                                                                                                                                                                                                                                                                                                                          |sentiment|sentimentIndex|\n",
      "+------------------------------------------------------------------------------------------------------------------------------------------------------------------------------------------------------------------------------------------------------------------------------------------------------------------------------------------------------------------------------------------------------------------------------------------------------------------------------------------------------------------------------------------------------------------------------------------------------------------------------------------------------------------------------------------------------------------------------------------------------------------------------------------------------------------------------------------------------------------------------------------------------------------------------------------------------------------------------------------------------------------------------------------------------------------------------------------------------------------------------------------------------------------------------------------------------------------------------------------------------------------------------------------------------------------------------------------------------------------------------------------------------------------------------------------------------------------------------------------------------------------------------------------------------------------------------------------------------------------------------------------------------------------------------------------------------------------------------------------------------------------------------------------------------------------------------------------------------------------------------------------------------------------------------------------------------------------------------------------------------------------------------------------------------------------------------------------------------------------------------------------------------------------------------------------------------------------------------------------------------------------------------------------------------------------------------------------------------------------------------------------------------------------------------------------------------------------------------------------------------------------------------------------------------------------------------------------------------------------------------------------------------------------------------------------------------------------------------------------------------------------------------------------------------------------------------------------------------------------------+---------+--------------+\n",
      "|extraordinary on any & every level . astonishing that it ' s a debut novel . transfix .                                                                                                                                                                                                                                                                                                                                                                                                                                                                                                                                                                                                                                                                                                                                                                                                                                                                                                                                                                                                                                                                                                                                                                                                                                                                                                                                                                                                                                                                                                                                                                                                                                                                                                                                                                                                                                                                                                                                                                                                                                                                                                                                                                                                                                                                                                                                                                                                                                                                                                                                                                                                                                                                                                                                                                                 |negative |1.0           |\n",
      "|this book be very easy to follow and read , all with one simple message : be kind !                                                                                                                                                                                                                                                                                                                                                                                                                                                                                                                                                                                                                                                                                                                                                                                                                                                                                                                                                                                                                                                                                                                                                                                                                                                                                                                                                                                                                                                                                                                                                                                                                                                                                                                                                                                                                                                                                                                                                                                                                                                                                                                                                                                                                                                                                                                                                                                                                                                                                                                                                                                                                                                                                                                                                                                     |negative |1.0           |\n",
      "|i want this to be well , it start so strong and then lose itself in the last third - to predictability .                                                                                                                                                                                                                                                                                                                                                                                                                                                                                                                                                                                                                                                                                                                                                                                                                                                                                                                                                                                                                                                                                                                                                                                                                                                                                                                                                                                                                                                                                                                                                                                                                                                                                                                                                                                                                                                                                                                                                                                                                                                                                                                                                                                                                                                                                                                                                                                                                                                                                                                                                                                                                                                                                                                                                                |negative |1.0           |\n",
      "|great book , great recipe                                                                                                                                                                                                                                                                                                                                                                                                                                                                                                                                                                                                                                                                                                                                                                                                                                                                                                                                                                                                                                                                                                                                                                                                                                                                                                                                                                                                                                                                                                                                                                                                                                                                                                                                                                                                                                                                                                                                                                                                                                                                                                                                                                                                                                                                                                                                                                                                                                                                                                                                                                                                                                                                                                                                                                                                                                               |positive |0.0           |\n",
      "|absolutely amazing ! no need to say more .                                                                                                                                                                                                                                                                                                                                                                                                                                                                                                                                                                                                                                                                                                                                                                                                                                                                                                                                                                                                                                                                                                                                                                                                                                                                                                                                                                                                                                                                                                                                                                                                                                                                                                                                                                                                                                                                                                                                                                                                                                                                                                                                                                                                                                                                                                                                                                                                                                                                                                                                                                                                                                                                                                                                                                                                                              |na       |2.0           |\n",
      "|this book paint a picture of a not-so-distant america . one that , although factionalized here , be not so far from the truth of today . this should be require read for every high school student so that maybe we can stop the atrocity that happen every day in this country .                                                                                                                                                                                                                                                                                                                                                                                                                                                                                                                                                                                                                                                                                                                                                                                                                                                                                                                                                                                                                                                                                                                                                                                                                                                                                                                                                                                                                                                                                                                                                                                                                                                                                                                                                                                                                                                                                                                                                                                                                                                                                                                                                                                                                                                                                                                                                                                                                                                                                                                                                                                       |negative |1.0           |\n",
      "|good one . a little long but easy read . ready for the next one ! i hope it come really soon ! please                                                                                                                                                                                                                                                                                                                                                                                                                                                                                                                                                                                                                                                                                                                                                                                                                                                                                                                                                                                                                                                                                                                                                                                                                                                                                                                                                                                                                                                                                                                                                                                                                                                                                                                                                                                                                                                                                                                                                                                                                                                                                                                                                                                                                                                                                                                                                                                                                                                                                                                                                                                                                                                                                                                                                                   |positive |0.0           |\n",
      "|a unique storytelling , well craft and grow rich chapter to chapter . the brilliance of the book be the obscurity of the character who float above one of the most tumultuous historic event , the russian revolution aftermath .                                                                                                                                                                                                                                                                                                                                                                                                                                                                                                                                                                                                                                                                                                                                                                                                                                                                                                                                                                                                                                                                                                                                                                                                                                                                                                                                                                                                                                                                                                                                                                                                                                                                                                                                                                                                                                                                                                                                                                                                                                                                                                                                                                                                                                                                                                                                                                                                                                                                                                                                                                                                                                       |positive |0.0           |\n",
      "|so good ! grab you at the 1st chapter ! could not put it down ! !! absolutely recommend read this book !                                                                                                                                                                                                                                                                                                                                                                                                                                                                                                                                                                                                                                                                                                                                                                                                                                                                                                                                                                                                                                                                                                                                                                                                                                                                                                                                                                                                                                                                                                                                                                                                                                                                                                                                                                                                                                                                                                                                                                                                                                                                                                                                                                                                                                                                                                                                                                                                                                                                                                                                                                                                                                                                                                                                                                |positive |0.0           |\n",
      "|lovely take with unexpected event throughout and a great end . many cartes so you must pat special attention to the visitor .                                                                                                                                                                                                                                                                                                                                                                                                                                                                                                                                                                                                                                                                                                                                                                                                                                                                                                                                                                                                                                                                                                                                                                                                                                                                                                                                                                                                                                                                                                                                                                                                                                                                                                                                                                                                                                                                                                                                                                                                                                                                                                                                                                                                                                                                                                                                                                                                                                                                                                                                                                                                                                                                                                                                           |negative |1.0           |\n",
      "|\" late bloomer \" by rich karlgaard extol the many virtue of people who cultivate they executive function late on in life when have have more experience . a career with more and vary experience usually produce important season , wisdom and a sharpen awareness or judgment . karlgaard discuss the dynamics of fluid intelligence versus crystal intelligence . fluidity deal more specifically with unstructured situation where people wait to gain more input and perspective before make a decision . late bloomer tend to demonstrate more curiosity , compassion , resilience bounce back from adversity , tenacity and a modicum of self doubt . older worker tend to bounce back from complacency and learn from past mistake , as well as , lose opportunity . karlgaard explain that the executive function tend to surface after the mid-twenties . he give important credit to the iterative process of become wise due to a great range of experience . the author explain how cognitive function peak over time . for instance , people learn and remember name in they early 20s . short term memory grow from the mid-twenties to midthirties . face recognition become more pronounce in the early 30s . social understand peak between the mid forties and mid fifties while verbal knowledge peak in the mid-sixties . <pp.91> for the workplace , old worker generally know the operation well enough to formulate a range of very good but not necessarily perfect solutions.additionally , old worker can more readily identify classic pitfalls,as well as , solution set that simply be not practical in implementation . overall , \" late bloomer \" by rich karlgaard be a welcome treasure of new perspective on what old worker can bring to the table after year of experience and season in life and the workplace . the book end with nearly 50 page of detail note which help to explain the content of this most unusual book .                                                                                                                                                                                                                                                                                                                                                                                                                                                                                                                                                                                                                                                                                                                                                                                                                                                                                                     |positive |0.0           |\n",
      "|thank you to net valley and the publisher for give i the opportunity to read and review \" the farm \" by joane ramos . i be so excited when i find out i be approve to read this debut novel . the premise sound like it be go to have that dystopian feel like \" the handmaid have tale , \" but it do not . it actually could happen now in today have society . giving this three star as i be not happy with the character development and the way it end . otherwise , worth the read .                                                                                                                                                                                                                                                                                                                                                                                                                                                                                                                                                                                                                                                                                                                                                                                                                                                                                                                                                                                                                                                                                                                                                                                                                                                                                                                                                                                                                                                                                                                                                                                                                                                                                                                                                                                                                                                                                                                                                                                                                                                                                                                                                                                                                                                                                                                                                                              |positive |0.0           |\n",
      "|\" when ! \" that have what i say when i finish directorate s. it have a doorstop of a book . to be fair , the author , steve col , be a top-notch journalist , who cover south asia for decade . he have work for publication such as the washington post and the new yorker . he understand the culture ( and foible ) of powerful americans , and he have a great feel for bureaucratic inanity . but directorate s be not really a history of the war in afghanistan . instead , it have a mountainous mishmash of recycle journalism . some of it be superbly report . some of it be ephemeral trivia . but all of it lean heavily on storytelling service such as vignette , anecdote , reconstruct conversation , and the story of individual ( usually high official ) . the narrative often blur as the report jump back and forth between the cia , iaf , the white house , the state department , karzai have presidency , and pakistan have isi . insider political gossip abound : obama dislike richard holbrooke ; zal khalizad be an operator glue to he cellphone ; karzai see conspiracy everywhere ; isi director be chainsmokers ; cia contractor be scum ; benazir bhutto be a drama queen , and so forth . material like this get old after 300 page or so , especially when the reader have expectation have be raise by the heft of the book . incredibly , afghanistan itself get leave out of the story . directorate s have little to say about afghan politics , village culture , tribal network , government institution , or economy ( except for opium production ) . likewise , the u.s. ground war get short shrift ( one chapter ) , though cia counterterrorism operation be well-covered . also barely mention be the huge ( and frequently unsuccessful ) international effort to build afghanistan have institution and economy , no doubt because usaid and the world bank be not as sexy as the cia , even though they be vastly more consequential , especially when they fail . what ambitious reporter want to cover usaid ? i enjoy directorate s because i work in kabul and have first-hand knowledge of a few of the people and event discuss in the book . everything in it ring true , especially the picture of u.s. policy as perpetually adrift , distract , and unsure of how to manage afghanistan at an acceptable cost . in the end , however , directorate s be a long slog through col have year of report on bit and piece of the war , cull from source will to be interview . ( he apparently have great access to the obama white house than the bush white house . ) alas , do the job of journalism -- even great journalism -- do not always lead a reporter to the material need need for a comprehensive and well-documented work of history or political science . directorate s be not such a work .|positive |0.0           |\n",
      "|i preordered i book month ago and receive it in the mail yesterday . if you look for some great inspiration please buy this book ! it have just what you need ! ! i love it and couldnt put it down . it touch i heart .                                                                                                                                                                                                                                                                                                                                                                                                                                                                                                                                                                                                                                                                                                                                                                                                                                                                                                                                                                                                                                                                                                                                                                                                                                                                                                                                                                                                                                                                                                                                                                                                                                                                                                                                                                                                                                                                                                                                                                                                                                                                                                                                                                                                                                                                                                                                                                                                                                                                                                                                                                                                                                                |negative |1.0           |\n",
      "|i do not want to put it down .                                                                                                                                                                                                                                                                                                                                                                                                                                                                                                                                                                                                                                                                                                                                                                                                                                                                                                                                                                                                                                                                                                                                                                                                                                                                                                                                                                                                                                                                                                                                                                                                                                                                                                                                                                                                                                                                                                                                                                                                                                                                                                                                                                                                                                                                                                                                                                                                                                                                                                                                                                                                                                                                                                                                                                                                                                          |negative |1.0           |\n",
      "|i love realistic fiction . . . . so it get 5 star !                                                                                                                                                                                                                                                                                                                                                                                                                                                                                                                                                                                                                                                                                                                                                                                                                                                                                                                                                                                                                                                                                                                                                                                                                                                                                                                                                                                                                                                                                                                                                                                                                                                                                                                                                                                                                                                                                                                                                                                                                                                                                                                                                                                                                                                                                                                                                                                                                                                                                                                                                                                                                                                                                                                                                                                                                     |negative |1.0           |\n",
      "|terrific , suspenseful novel . real page-turner . i would read this author again and again .                                                                                                                                                                                                                                                                                                                                                                                                                                                                                                                                                                                                                                                                                                                                                                                                                                                                                                                                                                                                                                                                                                                                                                                                                                                                                                                                                                                                                                                                                                                                                                                                                                                                                                                                                                                                                                                                                                                                                                                                                                                                                                                                                                                                                                                                                                                                                                                                                                                                                                                                                                                                                                                                                                                                                                            |negative |1.0           |\n",
      "|john sanford never disappoint . lucas davenport be well than ever , virgil flowers life on , and more really bad guy need to be catch . it just doesnt get any well than this .                                                                                                                                                                                                                                                                                                                                                                                                                                                                                                                                                                                                                                                                                                                                                                                                                                                                                                                                                                                                                                                                                                                                                                                                                                                                                                                                                                                                                                                                                                                                                                                                                                                                                                                                                                                                                                                                                                                                                                                                                                                                                                                                                                                                                                                                                                                                                                                                                                                                                                                                                                                                                                                                                         |positive |0.0           |\n",
      "|i be put this book off mostly because i didnt want it to be over . but alas . it be over and i be very sad about that fact . kelly bowen write really excellent historical suspense . i love she write so much . i especially love these character .                                                                                                                                                                                                                                                                                                                                                                                                                                                                                                                                                                                                                                                                                                                                                                                                                                                                                                                                                                                                                                                                                                                                                                                                                                                                                                                                                                                                                                                                                                                                                                                                                                                                                                                                                                                                                                                                                                                                                                                                                                                                                                                                                                                                                                                                                                                                                                                                                                                                                                                                                                                                                    |positive |0.0           |\n",
      "|i start read this book expect to hate it , base on it review in the new york times . i didnt . i love it ! !! an absolutely brilliant , absurdist portrayal of life , allegedly in northern ireland , but also a tell indictment of life under a dictatorship or in any society that rule through intimidation , fear , and fake news .                                                                                                                                                                                                                                                                                                                                                                                                                                                                                                                                                                                                                                                                                                                                                                                                                                                                                                                                                                                                                                                                                                                                                                                                                                                                                                                                                                                                                                                                                                                                                                                                                                                                                                                                                                                                                                                                                                                                                                                                                                                                                                                                                                                                                                                                                                                                                                                                                                                                                                                                 |positive |0.0           |\n",
      "+------------------------------------------------------------------------------------------------------------------------------------------------------------------------------------------------------------------------------------------------------------------------------------------------------------------------------------------------------------------------------------------------------------------------------------------------------------------------------------------------------------------------------------------------------------------------------------------------------------------------------------------------------------------------------------------------------------------------------------------------------------------------------------------------------------------------------------------------------------------------------------------------------------------------------------------------------------------------------------------------------------------------------------------------------------------------------------------------------------------------------------------------------------------------------------------------------------------------------------------------------------------------------------------------------------------------------------------------------------------------------------------------------------------------------------------------------------------------------------------------------------------------------------------------------------------------------------------------------------------------------------------------------------------------------------------------------------------------------------------------------------------------------------------------------------------------------------------------------------------------------------------------------------------------------------------------------------------------------------------------------------------------------------------------------------------------------------------------------------------------------------------------------------------------------------------------------------------------------------------------------------------------------------------------------------------------------------------------------------------------------------------------------------------------------------------------------------------------------------------------------------------------------------------------------------------------------------------------------------------------------------------------------------------------------------------------------------------------------------------------------------------------------------------------------------------------------------------------------------------------+---------+--------------+\n",
      "only showing top 20 rows\n",
      "\n"
     ]
    }
   ],
   "source": [
    "from sparknlp.pretrained import PretrainedPipeline\n",
    "from pyspark.sql.types import StringType\n",
    "from pyspark.sql.functions import udf\n",
    "from pyspark.sql.functions import lower, col\n",
    "from pyspark.ml.feature import StringIndexer\n",
    "\n",
    "pipeline = PretrainedPipeline('explain_document_ml', 'en')\n",
    "s_df2 = pipeline.annotate(s_df,\"review_text\")\n",
    "s_df2=s_df2.drop(*[\"document\",\"sentence\",\"token\",\"spell\",\"stems\",\"pos\",\"text\"])\n",
    "\n",
    "def mkString(line):    \n",
    "    return \" \".join([str(x[3]) for x in line])\n",
    "string_udf= udf(lambda z: mkString(z), StringType())\n",
    "s_df2=s_df2.withColumn(\"lemmatizedText\",string_udf(\"lemmas\"))\n",
    "s_df2=s_df2.withColumn(\"lemmatizedText\", lower(col(\"lemmatizedText\")))\n",
    "pipeline2=PretrainedPipeline(\"analyze_sentiment_ml\")\n",
    "s_df2=pipeline2.annotate(s_df2,\"review_title\")\n",
    "s_df2=s_df2.drop(*[\"document\",\"sentence\",\"token\",\"spell\",\"stems\",\"pos\",\"text\"])\n",
    "s_df2=s_df2.withColumn(\"sentiment\", s_df2[\"sentiment\"].getItem(0).result)\n",
    "indexer = StringIndexer(inputCol=\"sentiment\", outputCol=\"sentimentIndex\")\n",
    "s_df2 = indexer.fit(s_df2).transform(s_df2)\n",
    "s_df2.printSchema()\n",
    "s_df2.select([\"lemmatizedText\",\"sentiment\",\"sentimentIndex\"]).show(truncate=False)\n"
   ]
  },
  {
   "cell_type": "code",
   "execution_count": 7,
   "metadata": {
    "scrolled": true
   },
   "outputs": [],
   "source": [
    "# define processing 4 steps and execute them with a trsnformation pipeline\n",
    "from pyspark.ml.feature import RegexTokenizer, StopWordsRemover, CountVectorizer, IDF\n",
    "from pyspark.ml import Pipeline\n",
    "\n",
    "# 1. Tokenizer, .setPattern(\"\\\\p{L}+\") means that it remove accent from words (check it has no impact on the smileys !!!)\n",
    "tokenizer = RegexTokenizer().setGaps(False)\\\n",
    "  .setPattern(\"\\\\p{L}+\")\\\n",
    "  .setInputCol(\"lemmatizedText\")\\\n",
    "  .setOutputCol(\"words\")\n",
    "\n",
    "# 2. filter out stop words\n",
    "sw_filter = StopWordsRemover()\\\n",
    "  .setStopWords(stop_words)\\\n",
    "  .setCaseSensitive(False)\\\n",
    "  .setInputCol(\"words\")\\\n",
    "  .setOutputCol(\"filtered\")\n",
    "\n",
    "# 3. TF: TF vectorization + remove words that appear in 20 docs or less\n",
    "cv = CountVectorizer(minTF=1., minDF=20., vocabSize=2**17)\\\n",
    "  .setInputCol(\"filtered\")\\\n",
    "  .setOutputCol(\"tf\")\n",
    "# 4. TF-IDF transform\n",
    "idf = IDF().\\\n",
    "    setInputCol('tf').\\\n",
    "    setOutputCol('tfidf')\n",
    "# Create a pipelined transformer\n",
    "tfidf_pipeline = Pipeline(stages=[tokenizer, sw_filter, cv, idf]).fit(s_df2)\n",
    "\n",
    "\n",
    "# Execute transform\n",
    "#tfidf_pipeline.transform(s_df2)\n",
    "#s_df.select('tf').where(fn.col('review_score') == 1).first()\n",
    "#s_df2.printSchema()\n",
    "\n"
   ]
  },
  {
   "cell_type": "code",
   "execution_count": 9,
   "metadata": {},
   "outputs": [],
   "source": [
    "from pyspark.ml.feature import VectorAssembler\n",
    "assembler = VectorAssembler(inputCols=['tfidf','sentimentIndex'],outputCol=\"features\")\n",
    "#features = assembler.transform(s_df2)\n"
   ]
  },
  {
   "cell_type": "code",
   "execution_count": 26,
   "metadata": {},
   "outputs": [
    {
     "data": {
      "text/plain": [
       "[9191, 2382]"
      ]
     },
     "execution_count": 26,
     "metadata": {},
     "output_type": "execute_result"
    }
   ],
   "source": [
    "# split in train, valid and test sets\n",
    "#training_df, validation_df, testing_df = s_df.randomSplit([0.7, 0.2, 0.1], seed=42)\n",
    "#[training_df.count(), validation_df.count(), testing_df.count()]\n",
    "\n",
    "# start w/o validation set\n",
    "training_df, testing_df = s_df2.randomSplit([0.8, 0.2], seed=42)\n",
    "[training_df.count(), testing_df.count()]"
   ]
  },
  {
   "cell_type": "code",
   "execution_count": 27,
   "metadata": {},
   "outputs": [
    {
     "name": "stdout",
     "output_type": "stream",
     "text": [
      "+------------------+\n",
      "|      avg(correct)|\n",
      "+------------------+\n",
      "|0.8064651553316541|\n",
      "+------------------+\n",
      "\n"
     ]
    }
   ],
   "source": [
    "# perform simple logistic regression \n",
    "from pyspark.ml.classification import LogisticRegression\n",
    "lr = LogisticRegression().\\\n",
    "    setLabelCol('review_score').\\\n",
    "    setFeaturesCol('features').\\\n",
    "    setRegParam(0.0).\\\n",
    "    setMaxIter(100).\\\n",
    "    setElasticNetParam(0.5)\n",
    "# new pipeline to chain idf_pipeline with logistic regression\n",
    "lr_pipeline = Pipeline(stages=[tfidf_pipeline,assembler, lr]).fit(training_df)\n",
    "# fitting + accuracy estimation\n",
    "predictions = lr_pipeline.transform(testing_df)\n",
    "predictions.select(fn.expr('float(prediction = review_score)').alias('correct')).\\\n",
    "    select(fn.avg('correct')).show()"
   ]
  },
  {
   "cell_type": "code",
   "execution_count": 28,
   "metadata": {},
   "outputs": [
    {
     "name": "stdout",
     "output_type": "stream",
     "text": [
      "Score = 1\n",
      "+------------------+\n",
      "|      avg(correct)|\n",
      "+------------------+\n",
      "|0.2413793103448276|\n",
      "+------------------+\n",
      "\n",
      "Score = 2\n",
      "+------------------+\n",
      "|      avg(correct)|\n",
      "+------------------+\n",
      "|0.1794871794871795|\n",
      "+------------------+\n",
      "\n",
      "Score = 3\n",
      "+-------------------+\n",
      "|       avg(correct)|\n",
      "+-------------------+\n",
      "|0.35135135135135137|\n",
      "+-------------------+\n",
      "\n",
      "Score = 4\n",
      "+-----------------+\n",
      "|     avg(correct)|\n",
      "+-----------------+\n",
      "|0.573134328358209|\n",
      "+-----------------+\n",
      "\n",
      "Score = 5\n",
      "+------------------+\n",
      "|      avg(correct)|\n",
      "+------------------+\n",
      "|0.8866141732283465|\n",
      "+------------------+\n",
      "\n"
     ]
    }
   ],
   "source": [
    "# score above seems OK but now let's check the accuracy per class. we see it is not good for all but 5\n",
    "print('Score = 1')\n",
    "predictions.filter(predictions['review_score'] == 1).\\\n",
    "    select(fn.expr('float(prediction = review_score)').alias('correct')).\\\n",
    "    select(fn.avg('correct')).show()\n",
    "print('Score = 2')\n",
    "predictions.filter(predictions['review_score'] == 2).\\\n",
    "    select(fn.expr('float(prediction = review_score)').alias('correct')).\\\n",
    "    select(fn.avg('correct')).show()\n",
    "print('Score = 3')\n",
    "predictions.filter(predictions['review_score'] == 3).\\\n",
    "    select(fn.expr('float(prediction = review_score)').alias('correct')).\\\n",
    "    select(fn.avg('correct')).show()\n",
    "print('Score = 4')\n",
    "predictions.filter(predictions['review_score'] == 4).\\\n",
    "    select(fn.expr('float(prediction = review_score)').alias('correct')).\\\n",
    "    select(fn.avg('correct')).show()\n",
    "print('Score = 5')\n",
    "predictions.filter(predictions['review_score'] == 5).\\\n",
    "    select(fn.expr('float(prediction = review_score)').alias('correct')).\\\n",
    "    select(fn.avg('correct')).show()"
   ]
  },
  {
   "cell_type": "code",
   "execution_count": 10,
   "metadata": {},
   "outputs": [
    {
     "ename": "AnalysisException",
     "evalue": "\"cannot resolve '`indexedLabel`' given input columns: [probability, prediction, review_score, tf, tfidf, lemmas, lemmatizedText, words, filtered, book_title, rawPrediction, sentimentIndex, review_concat, review_user, indexedFeatures, sentiment, timestamp, book_id, review_id];;\\n'Project [prediction#1006, 'indexedLabel, 'features]\\n+- Project [book_id#6, book_title#7, review_id#8, review_score#32, review_user#12, timestamp#13L, review_concat#22, lemmas#116, lemmatizedText#187, sentiment#304, sentimentIndex#342, words#827, filtered#840, tf#855, tfidf#870, indexedFeatures#952, rawPrediction#969, probability#987, UDF(rawPrediction#969) AS prediction#1006]\\n   +- Project [book_id#6, book_title#7, review_id#8, review_score#32, review_user#12, timestamp#13L, review_concat#22, lemmas#116, lemmatizedText#187, sentiment#304, sentimentIndex#342, words#827, filtered#840, tf#855, tfidf#870, indexedFeatures#952, rawPrediction#969, UDF(rawPrediction#969) AS probability#987]\\n      +- Project [book_id#6, book_title#7, review_id#8, review_score#32, review_user#12, timestamp#13L, review_concat#22, lemmas#116, lemmatizedText#187, sentiment#304, sentimentIndex#342, words#827, filtered#840, tf#855, tfidf#870, indexedFeatures#952, UDF(indexedFeatures#952) AS rawPrediction#969]\\n         +- Project [book_id#6, book_title#7, review_id#8, review_score#32, review_user#12, timestamp#13L, review_concat#22, lemmas#116, lemmatizedText#187, sentiment#304, sentimentIndex#342, words#827, filtered#840, tf#855, tfidf#870, UDF(named_struct(tfidf, tfidf#870, sentimentIndex, sentimentIndex#342)) AS indexedFeatures#952]\\n            +- Project [book_id#6, book_title#7, review_id#8, review_score#32, review_user#12, timestamp#13L, review_concat#22, lemmas#116, lemmatizedText#187, sentiment#304, sentimentIndex#342, words#827, filtered#840, tf#855, UDF(tf#855) AS tfidf#870]\\n               +- Project [book_id#6, book_title#7, review_id#8, review_score#32, review_user#12, timestamp#13L, review_concat#22, lemmas#116, lemmatizedText#187, sentiment#304, sentimentIndex#342, words#827, filtered#840, UDF(filtered#840) AS tf#855]\\n                  +- Project [book_id#6, book_title#7, review_id#8, review_score#32, review_user#12, timestamp#13L, review_concat#22, lemmas#116, lemmatizedText#187, sentiment#304, sentimentIndex#342, words#827, UDF(words#827) AS filtered#840]\\n                     +- Project [book_id#6, book_title#7, review_id#8, review_score#32, review_user#12, timestamp#13L, review_concat#22, lemmas#116, lemmatizedText#187, sentiment#304, sentimentIndex#342, UDF(lemmatizedText#187) AS words#827]\\n                        +- Sample 0.7, 1.0, false, 5479377581549130571\\n                           +- Sort [book_id#6 ASC NULLS FIRST, book_title#7 ASC NULLS FIRST, review_id#8 ASC NULLS FIRST, review_score#32 ASC NULLS FIRST, review_user#12 ASC NULLS FIRST, timestamp#13L ASC NULLS FIRST, review_concat#22 ASC NULLS FIRST, lemmatizedText#187 ASC NULLS FIRST, sentiment#304 ASC NULLS FIRST, sentimentIndex#342 ASC NULLS FIRST], false\\n                              +- Project [book_id#6, book_title#7, review_id#8, review_score#32, review_user#12, timestamp#13L, review_concat#22, lemmas#116, lemmatizedText#187, sentiment#304, UDF(cast(sentiment#304 as string)) AS sentimentIndex#342]\\n                                 +- Project [book_id#6, book_title#7, review_id#8, review_score#32, review_user#12, timestamp#13L, review_concat#22, lemmas#116, lemmatizedText#187, sentiment#278[0].result AS sentiment#304]\\n                                    +- Project [book_id#6, book_title#7, review_id#8, review_score#32, review_user#12, timestamp#13L, review_concat#22, lemmas#116, lemmatizedText#187, sentiment#278]\\n                                       +- Project [book_id#6, book_title#7, review_id#8, review_score#32, text#198, review_user#12, timestamp#13L, review_concat#22, lemmas#116, lemmatizedText#187, document#220, sentence#233, token#247, spell#262, UDF(array(sentence#233, spell#262)) AS sentiment#278]\\n                                          +- Project [book_id#6, book_title#7, review_id#8, review_score#32, text#198, review_user#12, timestamp#13L, review_concat#22, lemmas#116, lemmatizedText#187, document#220, sentence#233, token#247, UDF(array(token#247)) AS spell#262]\\n                                             +- Project [book_id#6, book_title#7, review_id#8, review_score#32, text#198, review_user#12, timestamp#13L, review_concat#22, lemmas#116, lemmatizedText#187, document#220, sentence#233, UDF(array(sentence#233)) AS token#247]\\n                                                +- Project [book_id#6, book_title#7, review_id#8, review_score#32, text#198, review_user#12, timestamp#13L, review_concat#22, lemmas#116, lemmatizedText#187, document#220, UDF(array(document#220)) AS sentence#233]\\n                                                   +- Project [book_id#6, book_title#7, review_id#8, review_score#32, text#198, review_user#12, timestamp#13L, review_concat#22, lemmas#116, lemmatizedText#187, UDF(text#198) AS document#220]\\n                                                      +- Project [book_id#6, book_title#7, review_id#8, review_score#32, review_title#11 AS text#198, review_user#12, timestamp#13L, review_concat#22, lemmas#116, lemmatizedText#187]\\n                                                         +- Project [book_id#6, book_title#7, review_id#8, review_score#32, review_title#11, review_user#12, timestamp#13L, review_concat#22, lemmas#116, lower(lemmatizedText#176) AS lemmatizedText#187]\\n                                                            +- Project [book_id#6, book_title#7, review_id#8, review_score#32, review_title#11, review_user#12, timestamp#13L, review_concat#22, lemmas#116, <lambda>(lemmas#116) AS lemmatizedText#176]\\n                                                               +- Project [book_id#6, book_title#7, review_id#8, review_score#32, review_title#11, review_user#12, timestamp#13L, review_concat#22, lemmas#116]\\n                                                                  +- Project [book_id#6, book_title#7, review_id#8, review_score#32, text#42, review_title#11, review_user#12, timestamp#13L, review_concat#22, document#62, sentence#74, token#87, spell#101, lemmas#116, stems#132, UDF(array(spell#101, sentence#74)) AS pos#149]\\n                                                                     +- Project [book_id#6, book_title#7, review_id#8, review_score#32, text#42, review_title#11, review_user#12, timestamp#13L, review_concat#22, document#62, sentence#74, token#87, spell#101, lemmas#116, UDF(array(spell#101)) AS stems#132]\\n                                                                        +- Project [book_id#6, book_title#7, review_id#8, review_score#32, text#42, review_title#11, review_user#12, timestamp#13L, review_concat#22, document#62, sentence#74, token#87, spell#101, UDF(array(spell#101)) AS lemmas#116]\\n                                                                           +- Project [book_id#6, book_title#7, review_id#8, review_score#32, text#42, review_title#11, review_user#12, timestamp#13L, review_concat#22, document#62, sentence#74, token#87, UDF(array(token#87)) AS spell#101]\\n                                                                              +- Project [book_id#6, book_title#7, review_id#8, review_score#32, text#42, review_title#11, review_user#12, timestamp#13L, review_concat#22, document#62, sentence#74, UDF(array(sentence#74)) AS token#87]\\n                                                                                 +- Project [book_id#6, book_title#7, review_id#8, review_score#32, text#42, review_title#11, review_user#12, timestamp#13L, review_concat#22, document#62, UDF(array(document#62)) AS sentence#74]\\n                                                                                    +- Project [book_id#6, book_title#7, review_id#8, review_score#32, text#42, review_title#11, review_user#12, timestamp#13L, review_concat#22, UDF(text#42) AS document#62]\\n                                                                                       +- Project [book_id#6, book_title#7, review_id#8, review_score#32, review_text#10 AS text#42, review_title#11, review_user#12, timestamp#13L, review_concat#22]\\n                                                                                          +- Project [book_id#6, book_title#7, review_id#8, cast(review_score#9 as int) AS review_score#32, review_text#10, review_title#11, review_user#12, timestamp#13L, review_concat#22]\\n                                                                                             +- Deduplicate [review_id#8]\\n                                                                                                +- Project [book_id#6, book_title#7, review_id#8, review_score#9, review_text#10, review_title#11, review_user#12, timestamp#13L, concat(review_title#11,  , review_text#10) AS review_concat#22]\\n                                                                                                   +- Relation[book_id#6,book_title#7,review_id#8,review_score#9,review_text#10,review_title#11,review_user#12,timestamp#13L] json\\n\"",
     "output_type": "error",
     "traceback": [
      "\u001b[1;31m---------------------------------------------------------------------------\u001b[0m",
      "\u001b[1;31mPy4JJavaError\u001b[0m                             Traceback (most recent call last)",
      "\u001b[1;32m~\\spark\\spark-2.4.3-bin-hadoop2.7\\python\\pyspark\\sql\\utils.py\u001b[0m in \u001b[0;36mdeco\u001b[1;34m(*a, **kw)\u001b[0m\n\u001b[0;32m     62\u001b[0m         \u001b[1;32mtry\u001b[0m\u001b[1;33m:\u001b[0m\u001b[1;33m\u001b[0m\u001b[0m\n\u001b[1;32m---> 63\u001b[1;33m             \u001b[1;32mreturn\u001b[0m \u001b[0mf\u001b[0m\u001b[1;33m(\u001b[0m\u001b[1;33m*\u001b[0m\u001b[0ma\u001b[0m\u001b[1;33m,\u001b[0m \u001b[1;33m**\u001b[0m\u001b[0mkw\u001b[0m\u001b[1;33m)\u001b[0m\u001b[1;33m\u001b[0m\u001b[0m\n\u001b[0m\u001b[0;32m     64\u001b[0m         \u001b[1;32mexcept\u001b[0m \u001b[0mpy4j\u001b[0m\u001b[1;33m.\u001b[0m\u001b[0mprotocol\u001b[0m\u001b[1;33m.\u001b[0m\u001b[0mPy4JJavaError\u001b[0m \u001b[1;32mas\u001b[0m \u001b[0me\u001b[0m\u001b[1;33m:\u001b[0m\u001b[1;33m\u001b[0m\u001b[0m\n",
      "\u001b[1;32m~\\spark\\spark-2.4.3-bin-hadoop2.7\\python\\lib\\py4j-0.10.7-src.zip\\py4j\\protocol.py\u001b[0m in \u001b[0;36mget_return_value\u001b[1;34m(answer, gateway_client, target_id, name)\u001b[0m\n\u001b[0;32m    327\u001b[0m                     \u001b[1;34m\"An error occurred while calling {0}{1}{2}.\\n\"\u001b[0m\u001b[1;33m.\u001b[0m\u001b[1;33m\u001b[0m\u001b[0m\n\u001b[1;32m--> 328\u001b[1;33m                     format(target_id, \".\", name), value)\n\u001b[0m\u001b[0;32m    329\u001b[0m             \u001b[1;32melse\u001b[0m\u001b[1;33m:\u001b[0m\u001b[1;33m\u001b[0m\u001b[0m\n",
      "\u001b[1;31mPy4JJavaError\u001b[0m: An error occurred while calling o726.select.\n: org.apache.spark.sql.AnalysisException: cannot resolve '`indexedLabel`' given input columns: [probability, prediction, review_score, tf, tfidf, lemmas, lemmatizedText, words, filtered, book_title, rawPrediction, sentimentIndex, review_concat, review_user, indexedFeatures, sentiment, timestamp, book_id, review_id];;\n'Project [prediction#1006, 'indexedLabel, 'features]\n+- Project [book_id#6, book_title#7, review_id#8, review_score#32, review_user#12, timestamp#13L, review_concat#22, lemmas#116, lemmatizedText#187, sentiment#304, sentimentIndex#342, words#827, filtered#840, tf#855, tfidf#870, indexedFeatures#952, rawPrediction#969, probability#987, UDF(rawPrediction#969) AS prediction#1006]\n   +- Project [book_id#6, book_title#7, review_id#8, review_score#32, review_user#12, timestamp#13L, review_concat#22, lemmas#116, lemmatizedText#187, sentiment#304, sentimentIndex#342, words#827, filtered#840, tf#855, tfidf#870, indexedFeatures#952, rawPrediction#969, UDF(rawPrediction#969) AS probability#987]\n      +- Project [book_id#6, book_title#7, review_id#8, review_score#32, review_user#12, timestamp#13L, review_concat#22, lemmas#116, lemmatizedText#187, sentiment#304, sentimentIndex#342, words#827, filtered#840, tf#855, tfidf#870, indexedFeatures#952, UDF(indexedFeatures#952) AS rawPrediction#969]\n         +- Project [book_id#6, book_title#7, review_id#8, review_score#32, review_user#12, timestamp#13L, review_concat#22, lemmas#116, lemmatizedText#187, sentiment#304, sentimentIndex#342, words#827, filtered#840, tf#855, tfidf#870, UDF(named_struct(tfidf, tfidf#870, sentimentIndex, sentimentIndex#342)) AS indexedFeatures#952]\n            +- Project [book_id#6, book_title#7, review_id#8, review_score#32, review_user#12, timestamp#13L, review_concat#22, lemmas#116, lemmatizedText#187, sentiment#304, sentimentIndex#342, words#827, filtered#840, tf#855, UDF(tf#855) AS tfidf#870]\n               +- Project [book_id#6, book_title#7, review_id#8, review_score#32, review_user#12, timestamp#13L, review_concat#22, lemmas#116, lemmatizedText#187, sentiment#304, sentimentIndex#342, words#827, filtered#840, UDF(filtered#840) AS tf#855]\n                  +- Project [book_id#6, book_title#7, review_id#8, review_score#32, review_user#12, timestamp#13L, review_concat#22, lemmas#116, lemmatizedText#187, sentiment#304, sentimentIndex#342, words#827, UDF(words#827) AS filtered#840]\n                     +- Project [book_id#6, book_title#7, review_id#8, review_score#32, review_user#12, timestamp#13L, review_concat#22, lemmas#116, lemmatizedText#187, sentiment#304, sentimentIndex#342, UDF(lemmatizedText#187) AS words#827]\n                        +- Sample 0.7, 1.0, false, 5479377581549130571\n                           +- Sort [book_id#6 ASC NULLS FIRST, book_title#7 ASC NULLS FIRST, review_id#8 ASC NULLS FIRST, review_score#32 ASC NULLS FIRST, review_user#12 ASC NULLS FIRST, timestamp#13L ASC NULLS FIRST, review_concat#22 ASC NULLS FIRST, lemmatizedText#187 ASC NULLS FIRST, sentiment#304 ASC NULLS FIRST, sentimentIndex#342 ASC NULLS FIRST], false\n                              +- Project [book_id#6, book_title#7, review_id#8, review_score#32, review_user#12, timestamp#13L, review_concat#22, lemmas#116, lemmatizedText#187, sentiment#304, UDF(cast(sentiment#304 as string)) AS sentimentIndex#342]\n                                 +- Project [book_id#6, book_title#7, review_id#8, review_score#32, review_user#12, timestamp#13L, review_concat#22, lemmas#116, lemmatizedText#187, sentiment#278[0].result AS sentiment#304]\n                                    +- Project [book_id#6, book_title#7, review_id#8, review_score#32, review_user#12, timestamp#13L, review_concat#22, lemmas#116, lemmatizedText#187, sentiment#278]\n                                       +- Project [book_id#6, book_title#7, review_id#8, review_score#32, text#198, review_user#12, timestamp#13L, review_concat#22, lemmas#116, lemmatizedText#187, document#220, sentence#233, token#247, spell#262, UDF(array(sentence#233, spell#262)) AS sentiment#278]\n                                          +- Project [book_id#6, book_title#7, review_id#8, review_score#32, text#198, review_user#12, timestamp#13L, review_concat#22, lemmas#116, lemmatizedText#187, document#220, sentence#233, token#247, UDF(array(token#247)) AS spell#262]\n                                             +- Project [book_id#6, book_title#7, review_id#8, review_score#32, text#198, review_user#12, timestamp#13L, review_concat#22, lemmas#116, lemmatizedText#187, document#220, sentence#233, UDF(array(sentence#233)) AS token#247]\n                                                +- Project [book_id#6, book_title#7, review_id#8, review_score#32, text#198, review_user#12, timestamp#13L, review_concat#22, lemmas#116, lemmatizedText#187, document#220, UDF(array(document#220)) AS sentence#233]\n                                                   +- Project [book_id#6, book_title#7, review_id#8, review_score#32, text#198, review_user#12, timestamp#13L, review_concat#22, lemmas#116, lemmatizedText#187, UDF(text#198) AS document#220]\n                                                      +- Project [book_id#6, book_title#7, review_id#8, review_score#32, review_title#11 AS text#198, review_user#12, timestamp#13L, review_concat#22, lemmas#116, lemmatizedText#187]\n                                                         +- Project [book_id#6, book_title#7, review_id#8, review_score#32, review_title#11, review_user#12, timestamp#13L, review_concat#22, lemmas#116, lower(lemmatizedText#176) AS lemmatizedText#187]\n                                                            +- Project [book_id#6, book_title#7, review_id#8, review_score#32, review_title#11, review_user#12, timestamp#13L, review_concat#22, lemmas#116, <lambda>(lemmas#116) AS lemmatizedText#176]\n                                                               +- Project [book_id#6, book_title#7, review_id#8, review_score#32, review_title#11, review_user#12, timestamp#13L, review_concat#22, lemmas#116]\n                                                                  +- Project [book_id#6, book_title#7, review_id#8, review_score#32, text#42, review_title#11, review_user#12, timestamp#13L, review_concat#22, document#62, sentence#74, token#87, spell#101, lemmas#116, stems#132, UDF(array(spell#101, sentence#74)) AS pos#149]\n                                                                     +- Project [book_id#6, book_title#7, review_id#8, review_score#32, text#42, review_title#11, review_user#12, timestamp#13L, review_concat#22, document#62, sentence#74, token#87, spell#101, lemmas#116, UDF(array(spell#101)) AS stems#132]\n                                                                        +- Project [book_id#6, book_title#7, review_id#8, review_score#32, text#42, review_title#11, review_user#12, timestamp#13L, review_concat#22, document#62, sentence#74, token#87, spell#101, UDF(array(spell#101)) AS lemmas#116]\n                                                                           +- Project [book_id#6, book_title#7, review_id#8, review_score#32, text#42, review_title#11, review_user#12, timestamp#13L, review_concat#22, document#62, sentence#74, token#87, UDF(array(token#87)) AS spell#101]\n                                                                              +- Project [book_id#6, book_title#7, review_id#8, review_score#32, text#42, review_title#11, review_user#12, timestamp#13L, review_concat#22, document#62, sentence#74, UDF(array(sentence#74)) AS token#87]\n                                                                                 +- Project [book_id#6, book_title#7, review_id#8, review_score#32, text#42, review_title#11, review_user#12, timestamp#13L, review_concat#22, document#62, UDF(array(document#62)) AS sentence#74]\n                                                                                    +- Project [book_id#6, book_title#7, review_id#8, review_score#32, text#42, review_title#11, review_user#12, timestamp#13L, review_concat#22, UDF(text#42) AS document#62]\n                                                                                       +- Project [book_id#6, book_title#7, review_id#8, review_score#32, review_text#10 AS text#42, review_title#11, review_user#12, timestamp#13L, review_concat#22]\n                                                                                          +- Project [book_id#6, book_title#7, review_id#8, cast(review_score#9 as int) AS review_score#32, review_text#10, review_title#11, review_user#12, timestamp#13L, review_concat#22]\n                                                                                             +- Deduplicate [review_id#8]\n                                                                                                +- Project [book_id#6, book_title#7, review_id#8, review_score#9, review_text#10, review_title#11, review_user#12, timestamp#13L, concat(review_title#11,  , review_text#10) AS review_concat#22]\n                                                                                                   +- Relation[book_id#6,book_title#7,review_id#8,review_score#9,review_text#10,review_title#11,review_user#12,timestamp#13L] json\n\r\n\tat org.apache.spark.sql.catalyst.analysis.package$AnalysisErrorAt.failAnalysis(package.scala:42)\r\n\tat org.apache.spark.sql.catalyst.analysis.CheckAnalysis$$anonfun$checkAnalysis$1$$anonfun$apply$3.applyOrElse(CheckAnalysis.scala:110)\r\n\tat org.apache.spark.sql.catalyst.analysis.CheckAnalysis$$anonfun$checkAnalysis$1$$anonfun$apply$3.applyOrElse(CheckAnalysis.scala:107)\r\n\tat org.apache.spark.sql.catalyst.trees.TreeNode$$anonfun$transformUp$1.apply(TreeNode.scala:278)\r\n\tat org.apache.spark.sql.catalyst.trees.TreeNode$$anonfun$transformUp$1.apply(TreeNode.scala:278)\r\n\tat org.apache.spark.sql.catalyst.trees.CurrentOrigin$.withOrigin(TreeNode.scala:70)\r\n\tat org.apache.spark.sql.catalyst.trees.TreeNode.transformUp(TreeNode.scala:277)\r\n\tat org.apache.spark.sql.catalyst.plans.QueryPlan$$anonfun$transformExpressionsUp$1.apply(QueryPlan.scala:93)\r\n\tat org.apache.spark.sql.catalyst.plans.QueryPlan$$anonfun$transformExpressionsUp$1.apply(QueryPlan.scala:93)\r\n\tat org.apache.spark.sql.catalyst.plans.QueryPlan$$anonfun$1.apply(QueryPlan.scala:105)\r\n\tat org.apache.spark.sql.catalyst.plans.QueryPlan$$anonfun$1.apply(QueryPlan.scala:105)\r\n\tat org.apache.spark.sql.catalyst.trees.CurrentOrigin$.withOrigin(TreeNode.scala:70)\r\n\tat org.apache.spark.sql.catalyst.plans.QueryPlan.transformExpression$1(QueryPlan.scala:104)\r\n\tat org.apache.spark.sql.catalyst.plans.QueryPlan.org$apache$spark$sql$catalyst$plans$QueryPlan$$recursiveTransform$1(QueryPlan.scala:116)\r\n\tat org.apache.spark.sql.catalyst.plans.QueryPlan$$anonfun$org$apache$spark$sql$catalyst$plans$QueryPlan$$recursiveTransform$1$2.apply(QueryPlan.scala:121)\r\n\tat scala.collection.TraversableLike$$anonfun$map$1.apply(TraversableLike.scala:234)\r\n\tat scala.collection.TraversableLike$$anonfun$map$1.apply(TraversableLike.scala:234)\r\n\tat scala.collection.mutable.ResizableArray$class.foreach(ResizableArray.scala:59)\r\n\tat scala.collection.mutable.ArrayBuffer.foreach(ArrayBuffer.scala:48)\r\n\tat scala.collection.TraversableLike$class.map(TraversableLike.scala:234)\r\n\tat scala.collection.AbstractTraversable.map(Traversable.scala:104)\r\n\tat org.apache.spark.sql.catalyst.plans.QueryPlan.org$apache$spark$sql$catalyst$plans$QueryPlan$$recursiveTransform$1(QueryPlan.scala:121)\r\n\tat org.apache.spark.sql.catalyst.plans.QueryPlan$$anonfun$2.apply(QueryPlan.scala:126)\r\n\tat org.apache.spark.sql.catalyst.trees.TreeNode.mapProductIterator(TreeNode.scala:187)\r\n\tat org.apache.spark.sql.catalyst.plans.QueryPlan.mapExpressions(QueryPlan.scala:126)\r\n\tat org.apache.spark.sql.catalyst.plans.QueryPlan.transformExpressionsUp(QueryPlan.scala:93)\r\n\tat org.apache.spark.sql.catalyst.analysis.CheckAnalysis$$anonfun$checkAnalysis$1.apply(CheckAnalysis.scala:107)\r\n\tat org.apache.spark.sql.catalyst.analysis.CheckAnalysis$$anonfun$checkAnalysis$1.apply(CheckAnalysis.scala:85)\r\n\tat org.apache.spark.sql.catalyst.trees.TreeNode.foreachUp(TreeNode.scala:127)\r\n\tat org.apache.spark.sql.catalyst.analysis.CheckAnalysis$class.checkAnalysis(CheckAnalysis.scala:85)\r\n\tat org.apache.spark.sql.catalyst.analysis.Analyzer.checkAnalysis(Analyzer.scala:95)\r\n\tat org.apache.spark.sql.catalyst.analysis.Analyzer$$anonfun$executeAndCheck$1.apply(Analyzer.scala:108)\r\n\tat org.apache.spark.sql.catalyst.analysis.Analyzer$$anonfun$executeAndCheck$1.apply(Analyzer.scala:105)\r\n\tat org.apache.spark.sql.catalyst.plans.logical.AnalysisHelper$.markInAnalyzer(AnalysisHelper.scala:201)\r\n\tat org.apache.spark.sql.catalyst.analysis.Analyzer.executeAndCheck(Analyzer.scala:105)\r\n\tat org.apache.spark.sql.execution.QueryExecution.analyzed$lzycompute(QueryExecution.scala:57)\r\n\tat org.apache.spark.sql.execution.QueryExecution.analyzed(QueryExecution.scala:55)\r\n\tat org.apache.spark.sql.execution.QueryExecution.assertAnalyzed(QueryExecution.scala:47)\r\n\tat org.apache.spark.sql.Dataset$.ofRows(Dataset.scala:78)\r\n\tat org.apache.spark.sql.Dataset.org$apache$spark$sql$Dataset$$withPlan(Dataset.scala:3406)\r\n\tat org.apache.spark.sql.Dataset.select(Dataset.scala:1334)\r\n\tat sun.reflect.NativeMethodAccessorImpl.invoke0(Native Method)\r\n\tat sun.reflect.NativeMethodAccessorImpl.invoke(NativeMethodAccessorImpl.java:62)\r\n\tat sun.reflect.DelegatingMethodAccessorImpl.invoke(DelegatingMethodAccessorImpl.java:43)\r\n\tat java.lang.reflect.Method.invoke(Method.java:498)\r\n\tat py4j.reflection.MethodInvoker.invoke(MethodInvoker.java:244)\r\n\tat py4j.reflection.ReflectionEngine.invoke(ReflectionEngine.java:357)\r\n\tat py4j.Gateway.invoke(Gateway.java:282)\r\n\tat py4j.commands.AbstractCommand.invokeMethod(AbstractCommand.java:132)\r\n\tat py4j.commands.CallCommand.execute(CallCommand.java:79)\r\n\tat py4j.GatewayConnection.run(GatewayConnection.java:238)\r\n\tat java.lang.Thread.run(Thread.java:748)\r\n",
      "\nDuring handling of the above exception, another exception occurred:\n",
      "\u001b[1;31mAnalysisException\u001b[0m                         Traceback (most recent call last)",
      "\u001b[1;32m<ipython-input-10-be5c9e625e4f>\u001b[0m in \u001b[0;36m<module>\u001b[1;34m()\u001b[0m\n\u001b[0;32m     29\u001b[0m \u001b[1;33m\u001b[0m\u001b[0m\n\u001b[0;32m     30\u001b[0m \u001b[1;31m# Select example rows to display.\u001b[0m\u001b[1;33m\u001b[0m\u001b[1;33m\u001b[0m\u001b[0m\n\u001b[1;32m---> 31\u001b[1;33m \u001b[0mpredictions\u001b[0m\u001b[1;33m.\u001b[0m\u001b[0mselect\u001b[0m\u001b[1;33m(\u001b[0m\u001b[1;34m\"prediction\"\u001b[0m\u001b[1;33m,\u001b[0m \u001b[1;34m\"indexedLabel\"\u001b[0m\u001b[1;33m,\u001b[0m \u001b[1;34m\"features\"\u001b[0m\u001b[1;33m)\u001b[0m\u001b[1;33m.\u001b[0m\u001b[0mshow\u001b[0m\u001b[1;33m(\u001b[0m\u001b[1;36m5\u001b[0m\u001b[1;33m)\u001b[0m\u001b[1;33m\u001b[0m\u001b[0m\n\u001b[0m\u001b[0;32m     32\u001b[0m \u001b[1;33m\u001b[0m\u001b[0m\n\u001b[0;32m     33\u001b[0m \u001b[1;31m# Select (prediction, true label) and compute test error\u001b[0m\u001b[1;33m\u001b[0m\u001b[1;33m\u001b[0m\u001b[0m\n",
      "\u001b[1;32m~\\spark\\spark-2.4.3-bin-hadoop2.7\\python\\pyspark\\sql\\dataframe.py\u001b[0m in \u001b[0;36mselect\u001b[1;34m(self, *cols)\u001b[0m\n\u001b[0;32m   1318\u001b[0m         \u001b[1;33m[\u001b[0m\u001b[0mRow\u001b[0m\u001b[1;33m(\u001b[0m\u001b[0mname\u001b[0m\u001b[1;33m=\u001b[0m\u001b[1;34mu'Alice'\u001b[0m\u001b[1;33m,\u001b[0m \u001b[0mage\u001b[0m\u001b[1;33m=\u001b[0m\u001b[1;36m12\u001b[0m\u001b[1;33m)\u001b[0m\u001b[1;33m,\u001b[0m \u001b[0mRow\u001b[0m\u001b[1;33m(\u001b[0m\u001b[0mname\u001b[0m\u001b[1;33m=\u001b[0m\u001b[1;34mu'Bob'\u001b[0m\u001b[1;33m,\u001b[0m \u001b[0mage\u001b[0m\u001b[1;33m=\u001b[0m\u001b[1;36m15\u001b[0m\u001b[1;33m)\u001b[0m\u001b[1;33m]\u001b[0m\u001b[1;33m\u001b[0m\u001b[0m\n\u001b[0;32m   1319\u001b[0m         \"\"\"\n\u001b[1;32m-> 1320\u001b[1;33m         \u001b[0mjdf\u001b[0m \u001b[1;33m=\u001b[0m \u001b[0mself\u001b[0m\u001b[1;33m.\u001b[0m\u001b[0m_jdf\u001b[0m\u001b[1;33m.\u001b[0m\u001b[0mselect\u001b[0m\u001b[1;33m(\u001b[0m\u001b[0mself\u001b[0m\u001b[1;33m.\u001b[0m\u001b[0m_jcols\u001b[0m\u001b[1;33m(\u001b[0m\u001b[1;33m*\u001b[0m\u001b[0mcols\u001b[0m\u001b[1;33m)\u001b[0m\u001b[1;33m)\u001b[0m\u001b[1;33m\u001b[0m\u001b[0m\n\u001b[0m\u001b[0;32m   1321\u001b[0m         \u001b[1;32mreturn\u001b[0m \u001b[0mDataFrame\u001b[0m\u001b[1;33m(\u001b[0m\u001b[0mjdf\u001b[0m\u001b[1;33m,\u001b[0m \u001b[0mself\u001b[0m\u001b[1;33m.\u001b[0m\u001b[0msql_ctx\u001b[0m\u001b[1;33m)\u001b[0m\u001b[1;33m\u001b[0m\u001b[0m\n\u001b[0;32m   1322\u001b[0m \u001b[1;33m\u001b[0m\u001b[0m\n",
      "\u001b[1;32m~\\spark\\spark-2.4.3-bin-hadoop2.7\\python\\lib\\py4j-0.10.7-src.zip\\py4j\\java_gateway.py\u001b[0m in \u001b[0;36m__call__\u001b[1;34m(self, *args)\u001b[0m\n\u001b[0;32m   1255\u001b[0m         \u001b[0manswer\u001b[0m \u001b[1;33m=\u001b[0m \u001b[0mself\u001b[0m\u001b[1;33m.\u001b[0m\u001b[0mgateway_client\u001b[0m\u001b[1;33m.\u001b[0m\u001b[0msend_command\u001b[0m\u001b[1;33m(\u001b[0m\u001b[0mcommand\u001b[0m\u001b[1;33m)\u001b[0m\u001b[1;33m\u001b[0m\u001b[0m\n\u001b[0;32m   1256\u001b[0m         return_value = get_return_value(\n\u001b[1;32m-> 1257\u001b[1;33m             answer, self.gateway_client, self.target_id, self.name)\n\u001b[0m\u001b[0;32m   1258\u001b[0m \u001b[1;33m\u001b[0m\u001b[0m\n\u001b[0;32m   1259\u001b[0m         \u001b[1;32mfor\u001b[0m \u001b[0mtemp_arg\u001b[0m \u001b[1;32min\u001b[0m \u001b[0mtemp_args\u001b[0m\u001b[1;33m:\u001b[0m\u001b[1;33m\u001b[0m\u001b[0m\n",
      "\u001b[1;32m~\\spark\\spark-2.4.3-bin-hadoop2.7\\python\\pyspark\\sql\\utils.py\u001b[0m in \u001b[0;36mdeco\u001b[1;34m(*a, **kw)\u001b[0m\n\u001b[0;32m     67\u001b[0m                                              e.java_exception.getStackTrace()))\n\u001b[0;32m     68\u001b[0m             \u001b[1;32mif\u001b[0m \u001b[0ms\u001b[0m\u001b[1;33m.\u001b[0m\u001b[0mstartswith\u001b[0m\u001b[1;33m(\u001b[0m\u001b[1;34m'org.apache.spark.sql.AnalysisException: '\u001b[0m\u001b[1;33m)\u001b[0m\u001b[1;33m:\u001b[0m\u001b[1;33m\u001b[0m\u001b[0m\n\u001b[1;32m---> 69\u001b[1;33m                 \u001b[1;32mraise\u001b[0m \u001b[0mAnalysisException\u001b[0m\u001b[1;33m(\u001b[0m\u001b[0ms\u001b[0m\u001b[1;33m.\u001b[0m\u001b[0msplit\u001b[0m\u001b[1;33m(\u001b[0m\u001b[1;34m': '\u001b[0m\u001b[1;33m,\u001b[0m \u001b[1;36m1\u001b[0m\u001b[1;33m)\u001b[0m\u001b[1;33m[\u001b[0m\u001b[1;36m1\u001b[0m\u001b[1;33m]\u001b[0m\u001b[1;33m,\u001b[0m \u001b[0mstackTrace\u001b[0m\u001b[1;33m)\u001b[0m\u001b[1;33m\u001b[0m\u001b[0m\n\u001b[0m\u001b[0;32m     70\u001b[0m             \u001b[1;32mif\u001b[0m \u001b[0ms\u001b[0m\u001b[1;33m.\u001b[0m\u001b[0mstartswith\u001b[0m\u001b[1;33m(\u001b[0m\u001b[1;34m'org.apache.spark.sql.catalyst.analysis'\u001b[0m\u001b[1;33m)\u001b[0m\u001b[1;33m:\u001b[0m\u001b[1;33m\u001b[0m\u001b[0m\n\u001b[0;32m     71\u001b[0m                 \u001b[1;32mraise\u001b[0m \u001b[0mAnalysisException\u001b[0m\u001b[1;33m(\u001b[0m\u001b[0ms\u001b[0m\u001b[1;33m.\u001b[0m\u001b[0msplit\u001b[0m\u001b[1;33m(\u001b[0m\u001b[1;34m': '\u001b[0m\u001b[1;33m,\u001b[0m \u001b[1;36m1\u001b[0m\u001b[1;33m)\u001b[0m\u001b[1;33m[\u001b[0m\u001b[1;36m1\u001b[0m\u001b[1;33m]\u001b[0m\u001b[1;33m,\u001b[0m \u001b[0mstackTrace\u001b[0m\u001b[1;33m)\u001b[0m\u001b[1;33m\u001b[0m\u001b[0m\n",
      "\u001b[1;31mAnalysisException\u001b[0m: \"cannot resolve '`indexedLabel`' given input columns: [probability, prediction, review_score, tf, tfidf, lemmas, lemmatizedText, words, filtered, book_title, rawPrediction, sentimentIndex, review_concat, review_user, indexedFeatures, sentiment, timestamp, book_id, review_id];;\\n'Project [prediction#1006, 'indexedLabel, 'features]\\n+- Project [book_id#6, book_title#7, review_id#8, review_score#32, review_user#12, timestamp#13L, review_concat#22, lemmas#116, lemmatizedText#187, sentiment#304, sentimentIndex#342, words#827, filtered#840, tf#855, tfidf#870, indexedFeatures#952, rawPrediction#969, probability#987, UDF(rawPrediction#969) AS prediction#1006]\\n   +- Project [book_id#6, book_title#7, review_id#8, review_score#32, review_user#12, timestamp#13L, review_concat#22, lemmas#116, lemmatizedText#187, sentiment#304, sentimentIndex#342, words#827, filtered#840, tf#855, tfidf#870, indexedFeatures#952, rawPrediction#969, UDF(rawPrediction#969) AS probability#987]\\n      +- Project [book_id#6, book_title#7, review_id#8, review_score#32, review_user#12, timestamp#13L, review_concat#22, lemmas#116, lemmatizedText#187, sentiment#304, sentimentIndex#342, words#827, filtered#840, tf#855, tfidf#870, indexedFeatures#952, UDF(indexedFeatures#952) AS rawPrediction#969]\\n         +- Project [book_id#6, book_title#7, review_id#8, review_score#32, review_user#12, timestamp#13L, review_concat#22, lemmas#116, lemmatizedText#187, sentiment#304, sentimentIndex#342, words#827, filtered#840, tf#855, tfidf#870, UDF(named_struct(tfidf, tfidf#870, sentimentIndex, sentimentIndex#342)) AS indexedFeatures#952]\\n            +- Project [book_id#6, book_title#7, review_id#8, review_score#32, review_user#12, timestamp#13L, review_concat#22, lemmas#116, lemmatizedText#187, sentiment#304, sentimentIndex#342, words#827, filtered#840, tf#855, UDF(tf#855) AS tfidf#870]\\n               +- Project [book_id#6, book_title#7, review_id#8, review_score#32, review_user#12, timestamp#13L, review_concat#22, lemmas#116, lemmatizedText#187, sentiment#304, sentimentIndex#342, words#827, filtered#840, UDF(filtered#840) AS tf#855]\\n                  +- Project [book_id#6, book_title#7, review_id#8, review_score#32, review_user#12, timestamp#13L, review_concat#22, lemmas#116, lemmatizedText#187, sentiment#304, sentimentIndex#342, words#827, UDF(words#827) AS filtered#840]\\n                     +- Project [book_id#6, book_title#7, review_id#8, review_score#32, review_user#12, timestamp#13L, review_concat#22, lemmas#116, lemmatizedText#187, sentiment#304, sentimentIndex#342, UDF(lemmatizedText#187) AS words#827]\\n                        +- Sample 0.7, 1.0, false, 5479377581549130571\\n                           +- Sort [book_id#6 ASC NULLS FIRST, book_title#7 ASC NULLS FIRST, review_id#8 ASC NULLS FIRST, review_score#32 ASC NULLS FIRST, review_user#12 ASC NULLS FIRST, timestamp#13L ASC NULLS FIRST, review_concat#22 ASC NULLS FIRST, lemmatizedText#187 ASC NULLS FIRST, sentiment#304 ASC NULLS FIRST, sentimentIndex#342 ASC NULLS FIRST], false\\n                              +- Project [book_id#6, book_title#7, review_id#8, review_score#32, review_user#12, timestamp#13L, review_concat#22, lemmas#116, lemmatizedText#187, sentiment#304, UDF(cast(sentiment#304 as string)) AS sentimentIndex#342]\\n                                 +- Project [book_id#6, book_title#7, review_id#8, review_score#32, review_user#12, timestamp#13L, review_concat#22, lemmas#116, lemmatizedText#187, sentiment#278[0].result AS sentiment#304]\\n                                    +- Project [book_id#6, book_title#7, review_id#8, review_score#32, review_user#12, timestamp#13L, review_concat#22, lemmas#116, lemmatizedText#187, sentiment#278]\\n                                       +- Project [book_id#6, book_title#7, review_id#8, review_score#32, text#198, review_user#12, timestamp#13L, review_concat#22, lemmas#116, lemmatizedText#187, document#220, sentence#233, token#247, spell#262, UDF(array(sentence#233, spell#262)) AS sentiment#278]\\n                                          +- Project [book_id#6, book_title#7, review_id#8, review_score#32, text#198, review_user#12, timestamp#13L, review_concat#22, lemmas#116, lemmatizedText#187, document#220, sentence#233, token#247, UDF(array(token#247)) AS spell#262]\\n                                             +- Project [book_id#6, book_title#7, review_id#8, review_score#32, text#198, review_user#12, timestamp#13L, review_concat#22, lemmas#116, lemmatizedText#187, document#220, sentence#233, UDF(array(sentence#233)) AS token#247]\\n                                                +- Project [book_id#6, book_title#7, review_id#8, review_score#32, text#198, review_user#12, timestamp#13L, review_concat#22, lemmas#116, lemmatizedText#187, document#220, UDF(array(document#220)) AS sentence#233]\\n                                                   +- Project [book_id#6, book_title#7, review_id#8, review_score#32, text#198, review_user#12, timestamp#13L, review_concat#22, lemmas#116, lemmatizedText#187, UDF(text#198) AS document#220]\\n                                                      +- Project [book_id#6, book_title#7, review_id#8, review_score#32, review_title#11 AS text#198, review_user#12, timestamp#13L, review_concat#22, lemmas#116, lemmatizedText#187]\\n                                                         +- Project [book_id#6, book_title#7, review_id#8, review_score#32, review_title#11, review_user#12, timestamp#13L, review_concat#22, lemmas#116, lower(lemmatizedText#176) AS lemmatizedText#187]\\n                                                            +- Project [book_id#6, book_title#7, review_id#8, review_score#32, review_title#11, review_user#12, timestamp#13L, review_concat#22, lemmas#116, <lambda>(lemmas#116) AS lemmatizedText#176]\\n                                                               +- Project [book_id#6, book_title#7, review_id#8, review_score#32, review_title#11, review_user#12, timestamp#13L, review_concat#22, lemmas#116]\\n                                                                  +- Project [book_id#6, book_title#7, review_id#8, review_score#32, text#42, review_title#11, review_user#12, timestamp#13L, review_concat#22, document#62, sentence#74, token#87, spell#101, lemmas#116, stems#132, UDF(array(spell#101, sentence#74)) AS pos#149]\\n                                                                     +- Project [book_id#6, book_title#7, review_id#8, review_score#32, text#42, review_title#11, review_user#12, timestamp#13L, review_concat#22, document#62, sentence#74, token#87, spell#101, lemmas#116, UDF(array(spell#101)) AS stems#132]\\n                                                                        +- Project [book_id#6, book_title#7, review_id#8, review_score#32, text#42, review_title#11, review_user#12, timestamp#13L, review_concat#22, document#62, sentence#74, token#87, spell#101, UDF(array(spell#101)) AS lemmas#116]\\n                                                                           +- Project [book_id#6, book_title#7, review_id#8, review_score#32, text#42, review_title#11, review_user#12, timestamp#13L, review_concat#22, document#62, sentence#74, token#87, UDF(array(token#87)) AS spell#101]\\n                                                                              +- Project [book_id#6, book_title#7, review_id#8, review_score#32, text#42, review_title#11, review_user#12, timestamp#13L, review_concat#22, document#62, sentence#74, UDF(array(sentence#74)) AS token#87]\\n                                                                                 +- Project [book_id#6, book_title#7, review_id#8, review_score#32, text#42, review_title#11, review_user#12, timestamp#13L, review_concat#22, document#62, UDF(array(document#62)) AS sentence#74]\\n                                                                                    +- Project [book_id#6, book_title#7, review_id#8, review_score#32, text#42, review_title#11, review_user#12, timestamp#13L, review_concat#22, UDF(text#42) AS document#62]\\n                                                                                       +- Project [book_id#6, book_title#7, review_id#8, review_score#32, review_text#10 AS text#42, review_title#11, review_user#12, timestamp#13L, review_concat#22]\\n                                                                                          +- Project [book_id#6, book_title#7, review_id#8, cast(review_score#9 as int) AS review_score#32, review_text#10, review_title#11, review_user#12, timestamp#13L, review_concat#22]\\n                                                                                             +- Deduplicate [review_id#8]\\n                                                                                                +- Project [book_id#6, book_title#7, review_id#8, review_score#9, review_text#10, review_title#11, review_user#12, timestamp#13L, concat(review_title#11,  , review_text#10) AS review_concat#22]\\n                                                                                                   +- Relation[book_id#6,book_title#7,review_id#8,review_score#9,review_text#10,review_title#11,review_user#12,timestamp#13L] json\\n\""
     ]
    }
   ],
   "source": [
    "from pyspark.ml import Pipeline\n",
    "from pyspark.ml.classification import RandomForestClassifier\n",
    "from pyspark.ml.feature import StringIndexer, VectorIndexer\n",
    "from pyspark.ml.evaluation import MulticlassClassificationEvaluator\n",
    "\n",
    "\n",
    "# Index labels, adding metadata to the label column.\n",
    "# Fit on whole dataset to include all labels in index.\n",
    "labelIndexer = StringIndexer(inputCol=\"review_score\", outputCol=\"indexedLabel\").fit(s_df2)\n",
    "# Automatically identify categorical features, and index them.\n",
    "# Set maxCategories so features with > 4 distinct values are treated as continuous.\n",
    "assembler = VectorAssembler(inputCols=['tfidf','sentimentIndex'],outputCol=\"indexedFeatures\")\n",
    "\n",
    "\n",
    "# Split the data into training and test sets (30% held out for testing)\n",
    "(trainingData, testData) = s_df2.randomSplit([0.7, 0.3])\n",
    "\n",
    "# Train a GBT model.\n",
    "rf = RandomForestClassifier(labelCol=\"review_score\", featuresCol=\"indexedFeatures\", numTrees=10)\n",
    "\n",
    "# Chain indexers and GBT in a Pipeline\n",
    "pipeline = Pipeline(stages=[tfidf_pipeline, assembler, rf])\n",
    "\n",
    "# Train model.  This also runs the indexers.\n",
    "model = pipeline.fit(trainingData)\n",
    "\n",
    "# Make predictions.\n",
    "predictions = model.transform(testData)\n",
    "\n",
    "# Select example rows to display.\n",
    "predictions.select(\"prediction\", \"review_score\", \"indexedFeatures\").show(5)\n",
    "\n",
    "# Select (prediction, true label) and compute test error\n",
    "evaluator = MulticlassClassificationEvaluator(\n",
    "    labelCol=\"review_score\", predictionCol=\"prediction\", metricName=\"accuracy\")\n",
    "accuracy = evaluator.evaluate(predictions)\n",
    "print(\"Test Error = %g\" % (1.0 - accuracy))\n",
    "\n",
    "gbtModel = model.stages[2]\n",
    "print(gbtModel)  # summary only"
   ]
  },
  {
   "cell_type": "code",
   "execution_count": 14,
   "metadata": {},
   "outputs": [
    {
     "name": "stdout",
     "output_type": "stream",
     "text": [
      "+----------+------------+--------------------+\n",
      "|prediction|review_score|     indexedFeatures|\n",
      "+----------+------------+--------------------+\n",
      "|       5.0|           5|(2438,[19,22,301,...|\n",
      "|       5.0|           5|(2438,[23,2437],[...|\n",
      "|       5.0|           4|(2438,[6,7,9,55,5...|\n",
      "|       5.0|           5|(2438,[10,13,201,...|\n",
      "|       5.0|           5|(2438,[0,2,8,10,2...|\n",
      "+----------+------------+--------------------+\n",
      "only showing top 5 rows\n",
      "\n",
      "Test Error = 0.194484\n",
      "RandomForestClassificationModel (uid=RandomForestClassifier_a5bfc1b53c59) with 10 trees\n"
     ]
    }
   ],
   "source": [
    "# Make predictions.\n",
    "predictions = model.transform(testData)\n",
    "\n",
    "# Select example rows to display.\n",
    "predictions.select(\"prediction\", \"review_score\", \"indexedFeatures\").show(5)\n",
    "\n",
    "# Select (prediction, true label) and compute test error\n",
    "evaluator = MulticlassClassificationEvaluator(\n",
    "    labelCol=\"review_score\", predictionCol=\"prediction\", metricName=\"accuracy\")\n",
    "accuracy = evaluator.evaluate(predictions)\n",
    "print(\"Test Error = %g\" % (1.0 - accuracy))\n",
    "\n",
    "gbtModel = model.stages[2]\n",
    "print(gbtModel)  # summary only"
   ]
  },
  {
   "cell_type": "code",
   "execution_count": 23,
   "metadata": {},
   "outputs": [
    {
     "name": "stdout",
     "output_type": "stream",
     "text": [
      "+--------------------------------------------------------------------------------------------------------------------------------------------------------------------------------------------------------------------------------------------------------------------------------------------------------------+\n",
      "|indexedFeatures                                                                                                                                                                                                                                                                                               |\n",
      "+--------------------------------------------------------------------------------------------------------------------------------------------------------------------------------------------------------------------------------------------------------------------------------------------------------------+\n",
      "|(2438,[19,22,301,1319,1455,2437],[2.6314828399669414,2.439801461780175,4.093826293228899,5.618846863850416,5.618846863850416,1.0])                                                                                                                                                                            |\n",
      "|(2438,[23,2437],[2.284943117922252,1.0])                                                                                                                                                                                                                                                                      |\n",
      "|(2438,[6,7,9,55,57,61,92,269,621,1194,1337,1615,2057,2437],[1.681898984769421,1.7063477812887837,1.801134537893511,2.913976315665585,2.9251854002003053,2.8780068399252148,3.290408392030036,4.028640313344203,4.823916988980528,5.506368880423725,5.549853992363464,5.955319100471629,6.060679616129455,2.0])|\n",
      "|(2438,[10,13,201,348,511,525,771,2437],[1.6898262820536987,2.0021541517123076,3.8270873946223607,4.169130676293029,4.473714559547413,4.46616735391203,4.856706811803519,1.0])                                                                                                                                 |\n",
      "|(2438,[0,2,8,10,27,370],[0.4843097261054804,1.3802645383881609,1.6063323198759472,3.3796525641073973,2.347107549425147,4.203224887636005])                                                                                                                                                                    |\n",
      "+--------------------------------------------------------------------------------------------------------------------------------------------------------------------------------------------------------------------------------------------------------------------------------------------------------------+\n",
      "only showing top 5 rows\n",
      "\n"
     ]
    }
   ],
   "source": [
    "predictions.select(\"indexedFeatures\").show(5,truncate=False)"
   ]
  },
  {
   "cell_type": "code",
   "execution_count": 22,
   "metadata": {},
   "outputs": [
    {
     "name": "stdout",
     "output_type": "stream",
     "text": [
      "+--------------+\n",
      "|sentimentIndex|\n",
      "+--------------+\n",
      "|1.0           |\n",
      "|1.0           |\n",
      "|1.0           |\n",
      "|0.0           |\n",
      "|2.0           |\n",
      "+--------------+\n",
      "only showing top 5 rows\n",
      "\n"
     ]
    }
   ],
   "source": [
    "s_df2.select(\"sentimentIndex\").show(5,truncate=False)"
   ]
  },
  {
   "cell_type": "code",
   "execution_count": 14,
   "metadata": {},
   "outputs": [
    {
     "name": "stdout",
     "output_type": "stream",
     "text": [
      "+--------------+----------------------------------------------------------------------+------------+----------+\n",
      "|     review_id|                                                         review_concat|review_score|prediction|\n",
      "+--------------+----------------------------------------------------------------------+------------+----------+\n",
      "|R1CEBJPZE4H5YE|The Next Worst Thing to Being There When you move through this book...|           5|       5.0|\n",
      "|R1CNZRHE674DEW|The Next Worst Thing to Being There When you move through this book...|           5|       5.0|\n",
      "|R1CNZRHE674DEW|The Next Worst Thing to Being There When you move through this book...|           5|       5.0|\n",
      "|R2FO32ILFIQR3V|                                   Great true crime novel. Great book.|           5|       5.0|\n",
      "|R39UXH89UAMX37|                                   Great true crime novel. Great book.|           5|       5.0|\n",
      "|R2A5P47JL8BTXD|Another wonderful story Thanks to the author for giving us yet anot...|           5|       5.0|\n",
      "| R4E6ABYQWSWFZ|One of Jacqueline Winspear's best tales I've read every Maisie Dobb...|           5|       5.0|\n",
      "| R9D0SMC82JLPM|Maisie Dobbs at her best Love this series and can not wait for the ...|           5|       5.0|\n",
      "| RBQYBV8CHER5Y|Love Maisie Dobbs, you’ll love this book! I feel like I know Maisie...|           5|       5.0|\n",
      "| RPAT3I0X46Q0T|Maisie Dobbs at her best Love this series and can not wait for the ...|           5|       5.0|\n",
      "| RXTIF4LJVBXJJ|One of Jacqueline Winspear's best tales I've read every Maisie Dobb...|           5|       5.0|\n",
      "|R1AN2X4RZI82N5|An Impressive Cookbook The Blue Apron Cookbook, which was released ...|           5|       5.0|\n",
      "|R1E7FMJA7QJGL5|                                            BUY THIS! Love Blue Apron!|           5|       5.0|\n",
      "|R1H6GGAU5P5Y7B|Slow navigation The ebook seems to be slightly defective taking an ...|           5|       5.0|\n",
      "|R1QJ0AGIVAU7LD|                                       Hard! Very COMPLICATED recipes.|           5|       5.0|\n",
      "|R2ENXS7M7TPKF3|Love this cookbook! This is the first review I have ever written on...|           5|       5.0|\n",
      "|R35OH5S3TGD36D|Love this cookbook! This is the first review I have ever written on...|           5|       5.0|\n",
      "|R39D353SQR1OVQ|Not a conventional cookbook. Tips on what pans, ... Not a conventio...|           5|       5.0|\n",
      "|R39HK7MQ5IDPUS|Slow navigation The ebook seems to be slightly defective taking an ...|           5|       5.0|\n",
      "|R3F6YKWCGR39Z5|                                            BUY THIS! Love Blue Apron!|           5|       5.0|\n",
      "| R6IKDD1HI0FMS|                                            BUY THIS! Love Blue Apron!|           5|       5.0|\n",
      "| R6IKDD1HI0FMS|                                            BUY THIS! Love Blue Apron!|           5|       5.0|\n",
      "| RRV49RC29KEHJ|Not a conventional cookbook. Tips on what pans, ... Not a conventio...|           5|       5.0|\n",
      "| RUL3KF556O5H9|Love this cookbook! This is the first review I have ever written on...|           5|       5.0|\n",
      "| RXUYRBS2KP24Z|An Impressive Cookbook The Blue Apron Cookbook, which was released ...|           5|       5.0|\n",
      "| RXUYRBS2KP24Z|An Impressive Cookbook The Blue Apron Cookbook, which was released ...|           5|       5.0|\n",
      "|R14EBQ8I2C4IWH|Beautiful and helpful! A beautiful cookbook with. So much helpful i...|           4|       4.0|\n",
      "|R270EVT7CR9OXV|finally a book that works for me!! I have bought numerous cookbooks...|           5|       5.0|\n",
      "|R29ZORABXDJQHQ|Beautiful and helpful! A beautiful cookbook with. So much helpful i...|           4|       4.0|\n",
      "|R38NZ8751ELL3F|She knows what she is talking about - the food is yum This is a per...|           5|       4.0|\n",
      "|R3AUAETXKFO1PI|Beautiful Book with Tons of Recipes to Improve Your Thyroid Health ...|           5|       5.0|\n",
      "| R8EF93KBS0TKD|Simply... A must read for thyroid health! There is an ever increasi...|           5|       4.0|\n",
      "|R10CKMUHBQ2AMZ|Best book I’ve read in a long time! I loved this book! Your heart r...|           5|       4.0|\n",
      "|R10CKMUHBQ2AMZ|Best book I’ve read in a long time! I loved this book! Your heart r...|           5|       4.0|\n",
      "|R11PDNGFPVXGM0|Great book It was one of those \"can't put it down thrillers\" .  Whe...|           5|       5.0|\n",
      "|R12GJX37242KIP|I liked it, however I liked it, however, I was hoping it would beco...|           4|       4.0|\n",
      "|R12RUYH2YTN6IF|Audible Gasping ] This book is filled with so manybtwists and turns...|           5|       3.0|\n",
      "|R136E39FKGCRE5|Not the greatest book I've ever read Not the greatest book I've eve...|           2|       5.0|\n",
      "|R13CYIEE4NY1MN|Wow!!! This book is like \"The Girl On The Train\". Holy cow, you can...|           5|       5.0|\n",
      "|R13WBOYAOUYSRZ|Not a bad book, just a too obvious knock off This is copycat versio...|           2|       2.0|\n",
      "|R13WBOYAOUYSRZ|Not a bad book, just a too obvious knock off This is copycat versio...|           2|       2.0|\n",
      "|R1534TDB63CD0R|A suspenseful mystery of a very unique sort. It’s good. This is a c...|           5|       5.0|\n",
      "|R1534TDB63CD0R|A suspenseful mystery of a very unique sort. It’s good. This is a c...|           5|       5.0|\n",
      "|R156C6HKXF8PT7|Entertaining Read I didn’t give it 5 stars because no books deserve...|           4|       3.0|\n",
      "|R15DG6BI3K1I78|Although reviews are universally stellar, highly recommend one avoi...|           5|       5.0|\n",
      "|R15TB096LNGPBP|Oh my gosh, what an amazing book!!! I was completely faithful up fr...|           5|       5.0|\n",
      "|R16895JWB8OHGZ|Riveting A thriller for the ages!  I couldn’t put it down and neith...|           5|       5.0|\n",
      "|R16895JWB8OHGZ|Riveting A thriller for the ages!  I couldn’t put it down and neith...|           5|       5.0|\n",
      "|R16H5SYF7KISV0|Too long While I enjoyed reading this book, I thought it was too re...|           3|       5.0|\n",
      "|R16LT6KSKFOCFK|Twists are so predictable you'll wonder if they're in fact twists W...|           2|       2.0|\n",
      "|R16OC0NTJL2JP4|Avoid snap judgments! A page turner with many red herrings.  The pe...|           5|       5.0|\n",
      "|R16PVCVY2UWFK7|I liked the continued suspense I liked the continued suspense. Rear...|           4|       4.0|\n",
      "|R16UUS31CUBG1P|A Multi-Layered Thriller If you like Girl on the Train, you’ll prob...|           4|       4.0|\n",
      "|R17MAMCWVTTXBI|Great Read! Book Clubs will enjoy discussing. Haven’t read a lot of...|           5|       5.0|\n",
      "|R17ZO2D7S98TQQ|OMG how many books do I have to read where the Bad Seed is the vill...|           2|       2.0|\n",
      "|R18E85EKCWU53F|A complete waste of my time Soooo tedious. The drinking, the pills,...|           1|       1.0|\n",
      "|R18EH7QDX0A75I|woman in the window Exciting page turner; great for non-serious rea...|           3|       4.0|\n",
      "|R18O63B1421JQS|Good read! A page Turner. A great call back to an Alfred Hitchcock ...|           4|       4.0|\n",
      "|R18XHTPKDZ5Y0H|Didn't see the end Easy quick read, with an ending i never saw comi...|           5|       5.0|\n",
      "|R19AAEHSQIVGTU|                             good read. Our Book Club pick, good read.|           4|       5.0|\n",
      "|R19M50QLZ6DO00|           Five Stars Good book but it took weeks to receive the book!|           5|       5.0|\n",
      "|R19XJ8WAFIPL5D|BEST BOOK I'VE READ THIS YEAR EASILY! Wow! I wasn't sure what I was...|           5|       5.0|\n",
      "|R1AB13CRLKVSX5|Pretty pretty pretty good! It didn't feel like a book. A book to me...|           4|       4.0|\n",
      "|R1BCIPGSCKUE30|Also, whew... I didn't see things ... Also, whew...I didn't see thi...|           5|       5.0|\n",
      "|R1BPZSHYFUAB7G|Good! The premise of course is not original, and the writing was ch...|           4|       4.0|\n",
      "|R1C3AEUPSALIWJ|You Got Me! You got me Finn. I didn’t see that one coming. Excellen...|           4|       4.0|\n",
      "|R1CGZB2X9WHXO9|Plan on being glued to this story This is a great thriller somewhat...|           4|       4.0|\n",
      "|R1D84B7AZGZENC|This is a great book! I love the suspense This is a great book!  I ...|           5|       4.0|\n",
      "|R1D84B7AZGZENC|This is a great book! I love the suspense This is a great book!  I ...|           5|       4.0|\n",
      "|R1E1J0ZF33CI2L|Bored to tears! Slow and boring. You can read the last 10 chapters ...|           2|       2.0|\n",
      "|R1EBUO8CZF8Q2P|Ok... This wasn't my favorite book by any means.  I got tired of re...|           3|       3.0|\n",
      "|R1EO59V7VMJ205|Good Read This book is fast paced with lots of unexpected twists an...|           5|       5.0|\n",
      "|R1ETRC22IFQ267|Don't bother This book is easy reading, perhaps too easy.  If you'r...|           2|       2.0|\n",
      "|R1EZB4YWY5WOTX|Dr. Fox I thought that there was too much to the storyline,  I like...|           3|       3.0|\n",
      "|R1F9C76Z31M997|The Sixth Sense-Sort of Somebody needs to explain the difference be...|           3|       5.0|\n",
      "|R1FHJERMIOEJ8K|Just not of interest Although the writing was fine and the characte...|           3|       3.0|\n",
      "|R1FKX31D8PO9XV|                Outstanding 1st novel. Very good read, lots of twists.|           5|       4.0|\n",
      "|R1GEWYIFO704JM|That was great! All I hoped for..... True a previous description, v...|           5|       5.0|\n",
      "|R1H4BO4DA3BP0U|Probably Should've Seen the Movie First Less than halfway through t...|           3|       3.0|\n",
      "|R1HF2KAVDCGTRR|Page turner Twists and turns, although you might see some of them c...|           5|       5.0|\n",
      "|R1HHJHIAWYU66J|Pageturner I was riveted from the very beginning. I could not put t...|           5|       5.0|\n",
      "|R1HILAE5VBXVGF|Great read Found it hard to put down. Had twists and turns and gues...|           5|       4.0|\n",
      "|R1HOHVR2E6ZUE6|A Great Page Turner I really enjoyed this page turner, especially t...|           5|       5.0|\n",
      "|R1HWWA9FXPWTE9|Great read! This is a great read! Thrilling from beginning to end. ...|           5|       5.0|\n",
      "|R1I0H3LSN1PZF8|Captivating then riveting This novel has an appeal from the start a...|           4|       5.0|\n",
      "|R1I0H3LSN1PZF8|Captivating then riveting This novel has an appeal from the start a...|           4|       5.0|\n",
      "|R1IHWAJIEV7VMM|Don’t bother.  Overhyped! I never write book reviews but I am moved...|           1|       5.0|\n",
      "|R1IHWAJIEV7VMM|Don’t bother.  Overhyped! I never write book reviews but I am moved...|           1|       5.0|\n",
      "|R1ISI0Z7LMR3B1|Great thrill ride! If you are looking for a page Turner with twists...|           5|       5.0|\n",
      "|R1J06T5SM4VKAH|Just okay Disappointing.  Thought it was going to be better.  Maybe...|           3|       3.0|\n",
      "|R1JAX0ZYZER8I0|Glued to the book Although it took me a few chapters to get comfort...|           5|       5.0|\n",
      "| R1JTARMU607T8|Turn-paging mystery that appropriately distracts If you are looking...|           4|       4.0|\n",
      "|R1JW6GOKAE7M4M|Hitchcockesque scenes from old movies were distracting The premise ...|           4|       3.0|\n",
      "|R1K5VTQW3BZ5IP|Original plot Great book,can't say enough about the original plot. ...|           5|       5.0|\n",
      "|R1K7Z896ROV1MW|Good but needed editing.  Too Long! Overall plot was good.  The sto...|           3|       5.0|\n",
      "| R1K9NG87GY8IS|Lots of twists and turns Very good character development and this s...|           5|       5.0|\n",
      "|R1KRIPSYSJGZVK|Great thriller, congratulations to the author I usually avoid thril...|           5|       3.0|\n",
      "|R1L5FY3LQ2DTKJ|Not original but great A fun fast read that pays homage to the grea...|           5|       5.0|\n",
      "|R1L62MMK8A3OK8|An isolated, agoraphobic, alcoholic, who likes to spy on her neighb...|           4|       3.0|\n",
      "|R1L62MMK8A3OK8|An isolated, agoraphobic, alcoholic, who likes to spy on her neighb...|           4|       3.0|\n",
      "+--------------+----------------------------------------------------------------------+------------+----------+\n",
      "only showing top 100 rows\n",
      "\n"
     ]
    }
   ],
   "source": [
    "# show some predictions\n",
    "predictions.select(\"review_id\",\"review_concat\",\"review_score\",\"prediction\") \\\n",
    "    .show(n = 100, truncate = 70)"
   ]
  },
  {
   "cell_type": "code",
   "execution_count": 27,
   "metadata": {},
   "outputs": [
    {
     "name": "stdout",
     "output_type": "stream",
     "text": [
      "+--------------+----------------------------------------------------------------------+------------+----------+\n",
      "|     review_id|                                                         review_concat|review_score|prediction|\n",
      "+--------------+----------------------------------------------------------------------+------------+----------+\n",
      "|R18E85EKCWU53F|A complete waste of my time Soooo tedious. The drinking, the pills,...|           1|       1.0|\n",
      "|R1IHWAJIEV7VMM|Don’t bother.  Overhyped! I never write book reviews but I am moved...|           1|       2.0|\n",
      "|R1IHWAJIEV7VMM|Don’t bother.  Overhyped! I never write book reviews but I am moved...|           1|       2.0|\n",
      "|R1U03462BUZ8S5|Derivative, poorly written, and WAY overhyped... I couldn't even br...|           1|       2.0|\n",
      "|R2FG2SAHEV8AD9|Be careful when you order! What I received was in German. Figuring ...|           1|       1.0|\n",
      "|R2FNSA44HYXZTB|Deadly dull I bought this book because Amy Adams will star in the f...|           1|       2.0|\n",
      "|R1T4O9RXIKX7D9|Disappointed I am a huge fan of Greg Isles, but Cemetery Road was a...|           1|       4.0|\n",
      "|R2HNLSQ4AXAQZN|Why bother Lost me on page 69 when he just had to include Trump der...|           1|       2.0|\n",
      "|R2VR820LL4SFH0|Why is this book a \"TRUMP HATER?\" This book is too political.  I ha...|           1|       1.0|\n",
      "| ROI5LTSVAJ43C|                                    One Star Didn’t care for this book|           1|       5.0|\n",
      "|R1CAMOC185IHU1|Ridiculous violent plot poorly written CJ. Box ran out of steam hal...|           1|       1.0|\n",
      "|R20LI4V45AVRSL|Do NOT order this edition - it's full of typos, punctuation errors,...|           1|       1.0|\n",
      "|R3OVFO664TWIQ7|Poor quality. The uneven cut for the pages. They should have dispos...|           1|       2.0|\n",
      "|R3EVJ4OC43TNS7|Girl... you’re a mess She’s a mess, these books are a mess. Just sa...|           1|       2.0|\n",
      "|R1X3NFEP6VAT5U|Plagiarism at it's best Got in the recent sparkle hustle grow box a...|           1|       5.0|\n",
      "|R2TOSYVA0NWYVL|She has sooooo many people fooled. Girl, you didn't build your busi...|           1|       5.0|\n",
      "|R2BU77I32GYMNB|Laughable. Fan fiction. This belongs in the fiction/fantasy categor...|           1|       5.0|\n",
      "|R105BC5UFDFBGH|Can't See the Words Font is too small. Cannot read as is and no opt...|           1|       1.0|\n",
      "|R16DWJL44S5LGL|Hate Tessa The biggest problem for me about this books is that the ...|           1|       3.0|\n",
      "|R1DII4SC6ZGDWY|Repetitive I read this when it was a fan fiction and it just got re...|           1|       1.0|\n",
      "|R2SIXUDFYHTTJE|Absolute s*** Absolute S***. Don't buy it. It's a waste of time and...|           1|       1.0|\n",
      "|R2V0LGVYYOZJFU|ROMANTICIZED ABUSE I honestly don't understand how people like this...|           1|       1.0|\n",
      "|R30RKA48K30OTD|One of the worst books I have ever read One of the worst books I ha...|           1|       4.0|\n",
      "|R34VNVRXZYNA69|Terrible I would not recommend this book to ANYONE. One big rubbish...|           1|       1.0|\n",
      "|R3582H23UXOAFL|This book was recommended to me This book was recommended to me, bu...|           1|       1.0|\n",
      "|R3OFRMJLN3P59H|                                             One Star terribly written|           1|       1.0|\n",
      "|R3R5VW4EG335OH|This is in German do not buy(unless you speak German) I purchased S...|           1|       4.0|\n",
      "|R1CAMOC185IHU1|Ridiculous violent plot poorly written CJ. Box ran out of steam hal...|           1|       1.0|\n",
      "| R82T63ZM95Q5R|Unsolved A true crime investigation that doesn’t get solved? Comple...|           1|       2.0|\n",
      "|R3SE4OO2GSEB4Q|                     Don’t waste your time Disappointing.  Returned it|           1|       2.0|\n",
      "|R18E85EKCWU53F|A complete waste of my time Soooo tedious. The drinking, the pills,...|           1|       1.0|\n",
      "|  R50JW2WMC3O4|Good idea but executed poorly Started off pretty well but then kept...|           1|       2.0|\n",
      "| ROMKSZ4E9AI6M|Plotlines are telegraphed from page 1 The most predictable book I'v...|           1|       5.0|\n",
      "|R22KBRS3EMSGHI|Very Disappointed! Greg Iles use to be a great writer. I read every...|           1|       5.0|\n",
      "|R3Q4M1EGWL6IQH|Stop with the politics I can’t believe that a Greg Iles book turned...|           1|       5.0|\n",
      "+--------------+----------------------------------------------------------------------+------------+----------+\n",
      "\n"
     ]
    }
   ],
   "source": [
    "# show some predictions for which the ground truth was score = 1\n",
    "predictions.filter(predictions['review_score'] == 1).\\\n",
    "    select(\"review_id\",\"review_concat\",\"review_score\",\"prediction\"). \\\n",
    "    show(n = 100, truncate = 70)"
   ]
  },
  {
   "cell_type": "code",
   "execution_count": 28,
   "metadata": {},
   "outputs": [
    {
     "data": {
      "text/plain": [
       "[Row(book_id='006227564X', book_title='Fall and Rise: The Story of 9/11', review_id='R1CEBJPZE4H5YE', review_score=5, review_text=\"When you move through this book, it's like walking through a haunted house with the lights off. You know the gut-punches are coming, and they do. One after another they pile up; things that were missed, a report from the Spring of 2001 warning of an impending attack by Bin Laden that went unheeded, air traffic personnel faced with a situation they had never imagined in their wildest dreams, one of the hijackers flying under his own name even though he was on the FBI's no-fly list.\\n\\nThen there are the people; there are countless looks into the normal, everyday lives of the men, women and children murdered by the terrorists; each time you read about someone's honeymoon plans that would never materialize, someone carrying a baby who would never know their father, or someone bidding their spouse goodbye with a quick peck on the cheek, it's another dagger to the heart.\\n\\nIt's a necessary book, and one that will not easily leave your mind...nor should it. If you watched the excellent multi-part National Geographic Channel documentary on 9/11, you will get a great deal out of this book.\\n\\nAs a radio broadcaster who was on the air the moment the second plane hit, and with a newly-adopted 2 year old daughter, 9/11 resonates with me, as I'm sure it does everyone. Read this book and learn more about the worst day in the history of America.\", review_title='The Next Worst Thing to Being There', review_user='Alan Beumann', timestamp=1556909515, review_concat=\"The Next Worst Thing to Being There When you move through this book, it's like walking through a haunted house with the lights off. You know the gut-punches are coming, and they do. One after another they pile up; things that were missed, a report from the Spring of 2001 warning of an impending attack by Bin Laden that went unheeded, air traffic personnel faced with a situation they had never imagined in their wildest dreams, one of the hijackers flying under his own name even though he was on the FBI's no-fly list.\\n\\nThen there are the people; there are countless looks into the normal, everyday lives of the men, women and children murdered by the terrorists; each time you read about someone's honeymoon plans that would never materialize, someone carrying a baby who would never know their father, or someone bidding their spouse goodbye with a quick peck on the cheek, it's another dagger to the heart.\\n\\nIt's a necessary book, and one that will not easily leave your mind...nor should it. If you watched the excellent multi-part National Geographic Channel documentary on 9/11, you will get a great deal out of this book.\\n\\nAs a radio broadcaster who was on the air the moment the second plane hit, and with a newly-adopted 2 year old daughter, 9/11 resonates with me, as I'm sure it does everyone. Read this book and learn more about the worst day in the history of America.\"),\n",
       " Row(book_id='006227564X', book_title='Fall and Rise: The Story of 9/11', review_id='R26TDNZI0V3ZI5', review_score=5, review_text=\"When you move through this book, it's like walking through a haunted house with the lights off. You know the gut-punches are coming, and they do. One after another they pile up; things that were missed, a report from the Spring of 2001 warning of an impending attack by Bin Laden that went unheeded, air traffic personnel faced with a situation they had never imagined in their wildest dreams, one of the hijackers flying under his own name even though he was on the FBI's no-fly list.\\n\\nThen there are the people; there are countless looks into the normal, everyday lives of the men, women and children murdered by the terrorists; each time you read about someone's honeymoon plans that would never materialize, someone carrying a baby who would never know their father, or someone bidding their spouse goodbye with a quick peck on the cheek, it's another dagger to the heart.\\n\\nIt's a necessary book, and one that will not easily leave your mind...nor should it. If you watched the excellent multi-part National Geographic Channel documentary on 9/11, you will get a great deal out of this book.\\n\\nAs a radio broadcaster who was on the air the moment the second plane hit, and with a newly-adopted 2 year old daughter, 9/11 resonates with me, as I'm sure it does everyone. Read this book and learn more about the worst day in the history of America.\", review_title='The Next Worst Thing to Being There', review_user='Alan Beumann', timestamp=1556911555, review_concat=\"The Next Worst Thing to Being There When you move through this book, it's like walking through a haunted house with the lights off. You know the gut-punches are coming, and they do. One after another they pile up; things that were missed, a report from the Spring of 2001 warning of an impending attack by Bin Laden that went unheeded, air traffic personnel faced with a situation they had never imagined in their wildest dreams, one of the hijackers flying under his own name even though he was on the FBI's no-fly list.\\n\\nThen there are the people; there are countless looks into the normal, everyday lives of the men, women and children murdered by the terrorists; each time you read about someone's honeymoon plans that would never materialize, someone carrying a baby who would never know their father, or someone bidding their spouse goodbye with a quick peck on the cheek, it's another dagger to the heart.\\n\\nIt's a necessary book, and one that will not easily leave your mind...nor should it. If you watched the excellent multi-part National Geographic Channel documentary on 9/11, you will get a great deal out of this book.\\n\\nAs a radio broadcaster who was on the air the moment the second plane hit, and with a newly-adopted 2 year old daughter, 9/11 resonates with me, as I'm sure it does everyone. Read this book and learn more about the worst day in the history of America.\"),\n",
       " Row(book_id='006227564X', book_title='Fall and Rise: The Story of 9/11', review_id='R26TDNZI0V3ZI5', review_score=5, review_text=\"When you move through this book, it's like walking through a haunted house with the lights off. You know the gut-punches are coming, and they do. One after another they pile up; things that were missed, a report from the Spring of 2001 warning of an impending attack by Bin Laden that went unheeded, air traffic personnel faced with a situation they had never imagined in their wildest dreams, one of the hijackers flying under his own name even though he was on the FBI's no-fly list.\\n\\nThen there are the people; there are countless looks into the normal, everyday lives of the men, women and children murdered by the terrorists; each time you read about someone's honeymoon plans that would never materialize, someone carrying a baby who would never know their father, or someone bidding their spouse goodbye with a quick peck on the cheek, it's another dagger to the heart.\\n\\nIt's a necessary book, and one that will not easily leave your mind...nor should it. If you watched the excellent multi-part National Geographic Channel documentary on 9/11, you will get a great deal out of this book.\\n\\nAs a radio broadcaster who was on the air the moment the second plane hit, and with a newly-adopted 2 year old daughter, 9/11 resonates with me, as I'm sure it does everyone. Read this book and learn more about the worst day in the history of America.\", review_title='The Next Worst Thing to Being There', review_user='Alan Beumann', timestamp=1556911555, review_concat=\"The Next Worst Thing to Being There When you move through this book, it's like walking through a haunted house with the lights off. You know the gut-punches are coming, and they do. One after another they pile up; things that were missed, a report from the Spring of 2001 warning of an impending attack by Bin Laden that went unheeded, air traffic personnel faced with a situation they had never imagined in their wildest dreams, one of the hijackers flying under his own name even though he was on the FBI's no-fly list.\\n\\nThen there are the people; there are countless looks into the normal, everyday lives of the men, women and children murdered by the terrorists; each time you read about someone's honeymoon plans that would never materialize, someone carrying a baby who would never know their father, or someone bidding their spouse goodbye with a quick peck on the cheek, it's another dagger to the heart.\\n\\nIt's a necessary book, and one that will not easily leave your mind...nor should it. If you watched the excellent multi-part National Geographic Channel documentary on 9/11, you will get a great deal out of this book.\\n\\nAs a radio broadcaster who was on the air the moment the second plane hit, and with a newly-adopted 2 year old daughter, 9/11 resonates with me, as I'm sure it does everyone. Read this book and learn more about the worst day in the history of America.\"),\n",
       " Row(book_id='006227564X', book_title='Fall and Rise: The Story of 9/11', review_id='R2YRFXZUJL3MVK', review_score=4, review_text=\"Received quickly but some sort of glue on cover. That's why I gave it 4 stars. It was a gift.\", review_title='Received quickly.', review_user='Andrea L. Grlica', timestamp=1557296669, review_concat=\"Received quickly. Received quickly but some sort of glue on cover. That's why I gave it 4 stars. It was a gift.\"),\n",
       " Row(book_id='006227564X', book_title='Fall and Rise: The Story of 9/11', review_id='R3ASROYHMVLXFE', review_score=5, review_text=\"When you move through this book, it's like walking through a haunted house with the lights off. You know the gut-punches are coming, and they do. One after another they pile up; things that were missed, a report from the Spring of 2001 warning of an impending attack by Bin Laden that went unheeded, air traffic personnel faced with a situation they had never imagined in their wildest dreams, one of the hijackers flying under his own name even though he was on the FBI's no-fly list.\\n\\nThen there are the people; there are countless looks into the normal, everyday lives of the men, women and children murdered by the terrorists; each time you read about someone's honeymoon plans that would never materialize, someone carrying a baby who would never know their father, or someone bidding their spouse goodbye with a quick peck on the cheek, it's another dagger to the heart.\\n\\nIt's a necessary book, and one that will not easily leave your mind...nor should it. If you watched the excellent multi-part National Geographic Channel documentary on 9/11, you will get a great deal out of this book.\\n\\nAs a radio broadcaster who was on the air the moment the second plane hit, and with a newly-adopted 2 year old daughter, 9/11 resonates with me, as I'm sure it does everyone. Read this book and learn more about the worst day in the history of America.\", review_title='The Next Worst Thing to Being There', review_user='Alan Beumann', timestamp=1556912455, review_concat=\"The Next Worst Thing to Being There When you move through this book, it's like walking through a haunted house with the lights off. You know the gut-punches are coming, and they do. One after another they pile up; things that were missed, a report from the Spring of 2001 warning of an impending attack by Bin Laden that went unheeded, air traffic personnel faced with a situation they had never imagined in their wildest dreams, one of the hijackers flying under his own name even though he was on the FBI's no-fly list.\\n\\nThen there are the people; there are countless looks into the normal, everyday lives of the men, women and children murdered by the terrorists; each time you read about someone's honeymoon plans that would never materialize, someone carrying a baby who would never know their father, or someone bidding their spouse goodbye with a quick peck on the cheek, it's another dagger to the heart.\\n\\nIt's a necessary book, and one that will not easily leave your mind...nor should it. If you watched the excellent multi-part National Geographic Channel documentary on 9/11, you will get a great deal out of this book.\\n\\nAs a radio broadcaster who was on the air the moment the second plane hit, and with a newly-adopted 2 year old daughter, 9/11 resonates with me, as I'm sure it does everyone. Read this book and learn more about the worst day in the history of America.\")]"
      ]
     },
     "execution_count": 28,
     "metadata": {},
     "output_type": "execute_result"
    }
   ],
   "source": [
    "training_df.head(5)"
   ]
  },
  {
   "cell_type": "code",
   "execution_count": 29,
   "metadata": {},
   "outputs": [
    {
     "data": {
      "text/plain": [
       "[Row(book_id='62678426', book_title='The Woman in the Window: A Novel', review_id='RZFSIAUSHZH43', review_score=5, review_text=\"Someone recommended this book but wouldn't say much about it. Lots of twists and turns, trying to figure out what was reality and what wasn't.Don't start this if you have to be somewhere else. It's hard to put down until you know how it ends.\", review_title='Twists and turns', review_user='LindaG', timestamp=1556699124, review_concat=\"Twists and turns Someone recommended this book but wouldn't say much about it. Lots of twists and turns, trying to figure out what was reality and what wasn't.Don't start this if you have to be somewhere else. It's hard to put down until you know how it ends.\"),\n",
       " Row(book_id='1455536156', book_title='Scraps, Wilt & Weeds: Turning Wasted Food into Plenty', review_id='RSSSXHBF4BJJY', review_score=4, review_text='A well written and inspiring cook book! As a chef my self i was impressed with some of the applications for food waste!', review_title='Great book !', review_user='Tracy Rowan', timestamp=1556699114, review_concat='Great book ! A well written and inspiring cook book! As a chef my self i was impressed with some of the applications for food waste!'),\n",
       " Row(book_id='0143110438', book_title='A Gentleman in Moscow: A Novel', review_id='R141HEMN6J5F5T', review_score=5, review_text='A beautifully written story of the most wonderful characters. Be patient and savor the words.', review_title='Five Stars', review_user='Debbie A', timestamp=1557533297, review_concat='Five Stars A beautifully written story of the most wonderful characters. Be patient and savor the words.'),\n",
       " Row(book_id='0062678426', book_title='The Woman in the Window: A Novel', review_id='R10RBB19BIJ382', review_score=5, review_text='The book had a great twist at the end', review_title='Keep reading it!', review_user='Rosemary Howson', timestamp=1557533293, review_concat='Keep reading it! The book had a great twist at the end'),\n",
       " Row(book_id='198211598X', book_title='Pet Sematary: A Novel', review_id='R992H57BFUM2K', review_score=5, review_text=\"This is the tenth Stephen King book I've read and I'm glad I did. I happened to watch the movie before reading the book and knowing the end before reading it didn't ruin it for me at all. King's ability to capture and keep your attention from the beginning to the end of an entire book is unrivaled. He does it again with this one.In Pet Sematary there isn't a moment of downtime. There is always some supernatural or eerie element at work for the reader to experience. The main characters are well developed and are very easy to sympathize with, so much so that despite knowing the end, I was rooting for Louis to turn his car around and change his mind nearing the end. No spoiler alerts necessary, fear not.I definitely recommend Pet Sematary. Stephen King fans won't be disappointed with this short but rich read. For those who are new to King and are just looking for a good 'ghost story' won't be let down either. This may even be the 'gateway drug' to reading even more of King's works. Enjoy!\", review_title='King doing what he does best...', review_user='kimlunde3', timestamp=1557064263, review_concat=\"King doing what he does best... This is the tenth Stephen King book I've read and I'm glad I did. I happened to watch the movie before reading the book and knowing the end before reading it didn't ruin it for me at all. King's ability to capture and keep your attention from the beginning to the end of an entire book is unrivaled. He does it again with this one.In Pet Sematary there isn't a moment of downtime. There is always some supernatural or eerie element at work for the reader to experience. The main characters are well developed and are very easy to sympathize with, so much so that despite knowing the end, I was rooting for Louis to turn his car around and change his mind nearing the end. No spoiler alerts necessary, fear not.I definitely recommend Pet Sematary. Stephen King fans won't be disappointed with this short but rich read. For those who are new to King and are just looking for a good 'ghost story' won't be let down either. This may even be the 'gateway drug' to reading even more of King's works. Enjoy!\")]"
      ]
     },
     "execution_count": 29,
     "metadata": {},
     "output_type": "execute_result"
    }
   ],
   "source": [
    "s_df.head(5)"
   ]
  },
  {
   "cell_type": "code",
   "execution_count": 30,
   "metadata": {
    "scrolled": true
   },
   "outputs": [
    {
     "name": "stdout",
     "output_type": "stream",
     "text": [
      "data set split\n",
      "training set\n",
      "+------------+-----+\n",
      "|review_score|count|\n",
      "+------------+-----+\n",
      "|           5| 9718|\n",
      "|           4| 1549|\n",
      "|           3|  369|\n",
      "|           2|  187|\n",
      "|           1|  147|\n",
      "+------------+-----+\n",
      "\n",
      "test set\n",
      "+------------+-----+\n",
      "|review_score|count|\n",
      "+------------+-----+\n",
      "|           5| 1489|\n",
      "|           4|  261|\n",
      "|           3|   59|\n",
      "|           2|   28|\n",
      "|           1|   21|\n",
      "+------------+-----+\n",
      "\n"
     ]
    }
   ],
   "source": [
    "# Now make a new stratified split to make sure we have enough representative examples in the train set\n",
    "training2_df = s_df.sampleBy(\"review_score\", fractions={1: 0.8, 2: 0.8, 3: 0.8, 4: 0.8, 5: 0.8}, seed=42)\n",
    "test2_df = s_df.subtract(training2_df)\n",
    "print('data set split')\n",
    "[training2_df.count(), test2_df.count()]\n",
    "# training set\n",
    "print('training set')\n",
    "training2_df.groupBy(\"review_score\") \\\n",
    "    .count() \\\n",
    "    .orderBy(col(\"count\").desc()) \\\n",
    "    .show()\n",
    "# test set\n",
    "print('test set')\n",
    "test2_df.groupBy(\"review_score\") \\\n",
    "    .count() \\\n",
    "    .orderBy(col(\"count\").desc()) \\\n",
    "    .show()"
   ]
  },
  {
   "cell_type": "code",
   "execution_count": 31,
   "metadata": {},
   "outputs": [
    {
     "name": "stdout",
     "output_type": "stream",
     "text": [
      "+------------------+\n",
      "|      avg(correct)|\n",
      "+------------------+\n",
      "|0.8277717976318623|\n",
      "+------------------+\n",
      "\n"
     ]
    }
   ],
   "source": [
    "# new prevision\n",
    "lr = LogisticRegression().\\\n",
    "    setLabelCol('review_score').\\\n",
    "    setFeaturesCol('tfidf').\\\n",
    "    setRegParam(0.0).\\\n",
    "    setMaxIter(100).\\\n",
    "    setElasticNetParam(0.)\n",
    "# new pipeline to chain idf_pipeline with logistic regression\n",
    "lr_pipeline = Pipeline(stages=[tfidf_pipeline, lr]).fit(training2_df)\n",
    "# fitting + accuracy estimation\n",
    "predictions = lr_pipeline.transform(test2_df)\n",
    "predictions.select(fn.expr('float(prediction = review_score)').alias('correct')).\\\n",
    "    select(fn.avg('correct')).show()"
   ]
  },
  {
   "cell_type": "code",
   "execution_count": 32,
   "metadata": {},
   "outputs": [
    {
     "name": "stdout",
     "output_type": "stream",
     "text": [
      "Score = 1\n",
      "+-------------------+\n",
      "|       avg(correct)|\n",
      "+-------------------+\n",
      "|0.14285714285714285|\n",
      "+-------------------+\n",
      "\n",
      "Score = 2\n",
      "+------------------+\n",
      "|      avg(correct)|\n",
      "+------------------+\n",
      "|0.2857142857142857|\n",
      "+------------------+\n",
      "\n",
      "Score = 3\n",
      "+------------------+\n",
      "|      avg(correct)|\n",
      "+------------------+\n",
      "|0.3220338983050847|\n",
      "+------------------+\n",
      "\n",
      "Score = 4\n",
      "+------------------+\n",
      "|      avg(correct)|\n",
      "+------------------+\n",
      "|0.5440613026819924|\n",
      "+------------------+\n",
      "\n",
      "Score = 5\n",
      "+------------------+\n",
      "|      avg(correct)|\n",
      "+------------------+\n",
      "|0.9173942243116185|\n",
      "+------------------+\n",
      "\n"
     ]
    }
   ],
   "source": [
    "# score above seems OK but now let's check the accuracy per class. we see it is not good for all but 5\n",
    "print('Score = 1')\n",
    "predictions.filter(predictions['review_score'] == 1).\\\n",
    "    select(fn.expr('float(prediction = review_score)').alias('correct')).\\\n",
    "    select(fn.avg('correct')).show()\n",
    "print('Score = 2')\n",
    "predictions.filter(predictions['review_score'] == 2).\\\n",
    "    select(fn.expr('float(prediction = review_score)').alias('correct')).\\\n",
    "    select(fn.avg('correct')).show()\n",
    "print('Score = 3')\n",
    "predictions.filter(predictions['review_score'] == 3).\\\n",
    "    select(fn.expr('float(prediction = review_score)').alias('correct')).\\\n",
    "    select(fn.avg('correct')).show()\n",
    "print('Score = 4')\n",
    "predictions.filter(predictions['review_score'] == 4).\\\n",
    "    select(fn.expr('float(prediction = review_score)').alias('correct')).\\\n",
    "    select(fn.avg('correct')).show()\n",
    "print('Score = 5')\n",
    "predictions.filter(predictions['review_score'] == 5).\\\n",
    "    select(fn.expr('float(prediction = review_score)').alias('correct')).\\\n",
    "    select(fn.avg('correct')).show()"
   ]
  },
  {
   "cell_type": "code",
   "execution_count": 16,
   "metadata": {},
   "outputs": [
    {
     "name": "stdout",
     "output_type": "stream",
     "text": [
      "+----------+--------------------+--------------+------------+--------------+----------+--------------------+--------------------+--------------------+---------+--------------+\n",
      "|   book_id|          book_title|     review_id|review_score|   review_user| timestamp|       review_concat|              lemmas|      lemmatizedText|sentiment|sentimentIndex|\n",
      "+----------+--------------------+--------------+------------+--------------+----------+--------------------+--------------------+--------------------+---------+--------------+\n",
      "|006227564X|Fall and Rise: Th...|R1CEBJPZE4H5YE|           5|  Alan Beumann|1556909515|The Next Worst Th...|[[token, 0, 3, Wh...|when you move thr...| negative|           1.0|\n",
      "|006227564X|Fall and Rise: Th...|R1CNZRHE674DEW|           5|  Alan Beumann|1556910535|The Next Worst Th...|[[token, 0, 3, Wh...|when you move thr...| negative|           1.0|\n",
      "|006227564X|Fall and Rise: Th...|R1CNZRHE674DEW|           5|  Alan Beumann|1556910535|The Next Worst Th...|[[token, 0, 3, Wh...|when you move thr...| negative|           1.0|\n",
      "|0062319787|I'll Be Gone in t...|R2FO32ILFIQR3V|           5|      carilynp|1556678452|Great true crime ...|[[token, 0, 4, Gr...|        great book .| positive|           0.0|\n",
      "|0062319787|I'll Be Gone in t...|R39UXH89UAMX37|           5|      carilynp|1556679821|Great true crime ...|[[token, 0, 4, Gr...|        great book .| positive|           0.0|\n",
      "|006243666X|The American Agen...|R2A5P47JL8BTXD|           5|    Marty Reed|1554715989|Another wonderful...|[[token, 0, 5, Th...|thanks to the aut...| positive|           0.0|\n",
      "|006243666X|The American Agen...| R4E6ABYQWSWFZ|           5|E. B. MULLIGAN|1554774064|One of Jacqueline...|[[token, 0, 0, I,...|i have read every...| negative|           1.0|\n",
      "|006243666X|The American Agen...| R9D0SMC82JLPM|           5| southern girl|1554833908|Maisie Dobbs at h...|[[token, 0, 3, Lo...|love this series ...| negative|           1.0|\n",
      "|006243666X|The American Agen...| RBQYBV8CHER5Y|           5|       Lisa A.|1554705189|Love Maisie Dobbs...|[[token, 0, 0, I,...|i feel like i kno...| positive|           0.0|\n",
      "|006243666X|The American Agen...| RPAT3I0X46Q0T|           5| southern girl|1554831808|Maisie Dobbs at h...|[[token, 0, 3, Lo...|love this series ...| negative|           1.0|\n",
      "|006243666X|The American Agen...| RXTIF4LJVBXJJ|           5|E. B. MULLIGAN|1554769444|One of Jacqueline...|[[token, 0, 0, I,...|i have read every...| negative|           1.0|\n",
      "|0062562762|The Blue Apron Co...|R1AN2X4RZI82N5|           5|    Bossalover|1556680429|An Impressive Coo...|[[token, 0, 2, Th...|the blue apron co...| positive|           0.0|\n",
      "|0062562762|The Blue Apron Co...|R1E7FMJA7QJGL5|           5|    Bossalover|1556672648|BUY THIS! Love Bl...|[[token, 0, 3, Lo...|   love blue apron !| negative|           1.0|\n",
      "|0062562762|The Blue Apron Co...|R1H6GGAU5P5Y7B|           5|    Bossalover|1556662712|Slow navigation T...|[[token, 0, 2, Th...|the ebook seem to...|       na|           2.0|\n",
      "|0062562762|The Blue Apron Co...|R1QJ0AGIVAU7LD|           5|    Bossalover|1556657703|Hard! Very COMPLI...|[[token, 0, 3, Ve...|very complicated ...| positive|           0.0|\n",
      "|0062562762|The Blue Apron Co...|R2ENXS7M7TPKF3|           5|    Bossalover|1556677120|Love this cookboo...|[[token, 0, 3, Th...|this be the first...| positive|           0.0|\n",
      "|0062562762|The Blue Apron Co...|R35OH5S3TGD36D|           5|    Bossalover|1556677710|Love this cookboo...|[[token, 0, 3, Th...|this be the first...| positive|           0.0|\n",
      "|0062562762|The Blue Apron Co...|R39D353SQR1OVQ|           5|    Bossalover|1556668168|Not a conventiona...|[[token, 0, 2, No...|not a conventiona...| negative|           1.0|\n",
      "|0062562762|The Blue Apron Co...|R39HK7MQ5IDPUS|           5|    Bossalover|1556661847|Slow navigation T...|[[token, 0, 2, Th...|the ebook seem to...|       na|           2.0|\n",
      "|0062562762|The Blue Apron Co...|R3F6YKWCGR39Z5|           5|    Bossalover|1556670967|BUY THIS! Love Bl...|[[token, 0, 3, Lo...|   love blue apron !| negative|           1.0|\n",
      "+----------+--------------------+--------------+------------+--------------+----------+--------------------+--------------------+--------------------+---------+--------------+\n",
      "only showing top 20 rows\n",
      "\n"
     ]
    }
   ],
   "source": [
    "testing_df.show()"
   ]
  },
  {
   "cell_type": "code",
   "execution_count": null,
   "metadata": {},
   "outputs": [],
   "source": [
    "training_df.show()"
   ]
  }
 ],
 "metadata": {
  "kernelspec": {
   "display_name": "Python 3",
   "language": "python",
   "name": "python3"
  },
  "language_info": {
   "codemirror_mode": {
    "name": "ipython",
    "version": 3
   },
   "file_extension": ".py",
   "mimetype": "text/x-python",
   "name": "python",
   "nbconvert_exporter": "python",
   "pygments_lexer": "ipython3",
   "version": "3.6.5"
  }
 },
 "nbformat": 4,
 "nbformat_minor": 2
}
